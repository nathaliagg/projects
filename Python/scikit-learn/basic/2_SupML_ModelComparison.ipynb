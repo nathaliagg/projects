{
 "cells": [
  {
   "cell_type": "markdown",
   "metadata": {
    "toc": true
   },
   "source": [
    "<h1>Table of Contents<span class=\"tocSkip\"></span></h1>\n",
    "<div class=\"toc\"><ul class=\"toc-item\"><li><span><a href=\"#Load-the-iris-dataset\" data-toc-modified-id=\"Load-the-iris-dataset-1\"><span class=\"toc-item-num\">1&nbsp;&nbsp;</span>Load the iris dataset</a></span></li><li><span><a href=\"#Supervised-ML---KNN\" data-toc-modified-id=\"Supervised-ML---KNN-2\"><span class=\"toc-item-num\">2&nbsp;&nbsp;</span>Supervised ML - KNN</a></span><ul class=\"toc-item\"><li><span><a href=\"#Run-KNN-(K-=-5)\" data-toc-modified-id=\"Run-KNN-(K-=-5)-2.1\"><span class=\"toc-item-num\">2.1&nbsp;&nbsp;</span>Run KNN (K = 5)</a></span></li><li><span><a href=\"#Classification-accuracy-(K-=-5)\" data-toc-modified-id=\"Classification-accuracy-(K-=-5)-2.2\"><span class=\"toc-item-num\">2.2&nbsp;&nbsp;</span>Classification accuracy (K = 5)</a></span></li></ul></li><li><span><a href=\"#Supervised-ML---KNN\" data-toc-modified-id=\"Supervised-ML---KNN-3\"><span class=\"toc-item-num\">3&nbsp;&nbsp;</span>Supervised ML - KNN</a></span><ul class=\"toc-item\"><li><span><a href=\"#Run-KNN-(K-=-1)\" data-toc-modified-id=\"Run-KNN-(K-=-1)-3.1\"><span class=\"toc-item-num\">3.1&nbsp;&nbsp;</span>Run KNN (K = 1)</a></span></li><li><span><a href=\"#Classification-accuracy-(K-=-1)\" data-toc-modified-id=\"Classification-accuracy-(K-=-1)-3.2\"><span class=\"toc-item-num\">3.2&nbsp;&nbsp;</span>Classification accuracy (K = 1)</a></span></li><li><span><a href=\"#Conclusion-KNN-model-comparision\" data-toc-modified-id=\"Conclusion-KNN-model-comparision-3.3\"><span class=\"toc-item-num\">3.3&nbsp;&nbsp;</span>Conclusion KNN model comparision</a></span></li></ul></li><li><span><a href=\"#Supervised-ML---Logistic-Regression\" data-toc-modified-id=\"Supervised-ML---Logistic-Regression-4\"><span class=\"toc-item-num\">4&nbsp;&nbsp;</span>Supervised ML - Logistic Regression</a></span><ul class=\"toc-item\"><li><span><a href=\"#Run-Logistic-Regression-Model-(C-=-1e5)\" data-toc-modified-id=\"Run-Logistic-Regression-Model-(C-=-1e5)-4.1\"><span class=\"toc-item-num\">4.1&nbsp;&nbsp;</span>Run Logistic Regression Model (C = 1e5)</a></span></li><li><span><a href=\"#Classsification-accuracy\" data-toc-modified-id=\"Classsification-accuracy-4.2\"><span class=\"toc-item-num\">4.2&nbsp;&nbsp;</span>Classsification accuracy</a></span></li><li><span><a href=\"#Run-Logistic-Regression-Model-(C-=-1)\" data-toc-modified-id=\"Run-Logistic-Regression-Model-(C-=-1)-4.3\"><span class=\"toc-item-num\">4.3&nbsp;&nbsp;</span>Run Logistic Regression Model (C = 1)</a></span></li><li><span><a href=\"#Classsification-accuracy\" data-toc-modified-id=\"Classsification-accuracy-4.4\"><span class=\"toc-item-num\">4.4&nbsp;&nbsp;</span>Classsification accuracy</a></span></li><li><span><a href=\"#Conclusion-Logistic-Regression-model-comparision\" data-toc-modified-id=\"Conclusion-Logistic-Regression-model-comparision-4.5\"><span class=\"toc-item-num\">4.5&nbsp;&nbsp;</span>Conclusion Logistic Regression model comparision</a></span></li></ul></li><li><span><a href=\"#Problems-with-training-and-testing-on-the-same-data\" data-toc-modified-id=\"Problems-with-training-and-testing-on-the-same-data-5\"><span class=\"toc-item-num\">5&nbsp;&nbsp;</span>Problems with training and testing on the same data</a></span></li><li><span><a href=\"#Train/test-split\" data-toc-modified-id=\"Train/test-split-6\"><span class=\"toc-item-num\">6&nbsp;&nbsp;</span>Train/test split</a></span><ul class=\"toc-item\"><li><span><a href=\"#Re-test-KNN\" data-toc-modified-id=\"Re-test-KNN-6.1\"><span class=\"toc-item-num\">6.1&nbsp;&nbsp;</span>Re-test KNN</a></span><ul class=\"toc-item\"><li><span><a href=\"#KNN-(K-=-5)\" data-toc-modified-id=\"KNN-(K-=-5)-6.1.1\"><span class=\"toc-item-num\">6.1.1&nbsp;&nbsp;</span>KNN (K = 5)</a></span></li><li><span><a href=\"#KNN-(K-=-1)\" data-toc-modified-id=\"KNN-(K-=-1)-6.1.2\"><span class=\"toc-item-num\">6.1.2&nbsp;&nbsp;</span>KNN (K = 1)</a></span></li><li><span><a href=\"#Conclusion-train/test-split-for-KNN\" data-toc-modified-id=\"Conclusion-train/test-split-for-KNN-6.1.3\"><span class=\"toc-item-num\">6.1.3&nbsp;&nbsp;</span>Conclusion train/test split for KNN</a></span></li></ul></li><li><span><a href=\"#Re-test-Logistic-Regression\" data-toc-modified-id=\"Re-test-Logistic-Regression-6.2\"><span class=\"toc-item-num\">6.2&nbsp;&nbsp;</span>Re-test Logistic Regression</a></span><ul class=\"toc-item\"><li><span><a href=\"#Logistic-Regression-(C-=-1e5)\" data-toc-modified-id=\"Logistic-Regression-(C-=-1e5)-6.2.1\"><span class=\"toc-item-num\">6.2.1&nbsp;&nbsp;</span>Logistic Regression (C = 1e5)</a></span></li><li><span><a href=\"#Logistic-Regression-(C-=-1)\" data-toc-modified-id=\"Logistic-Regression-(C-=-1)-6.2.2\"><span class=\"toc-item-num\">6.2.2&nbsp;&nbsp;</span>Logistic Regression (C = 1)</a></span></li><li><span><a href=\"#Conclusion-train/test-split-for-Logistic-Regression\" data-toc-modified-id=\"Conclusion-train/test-split-for-Logistic-Regression-6.2.3\"><span class=\"toc-item-num\">6.2.3&nbsp;&nbsp;</span>Conclusion train/test split for Logistic Regression</a></span></li></ul></li></ul></li><li><span><a href=\"#KKN---Can-we-find-a-better-value-for-K?\" data-toc-modified-id=\"KKN---Can-we-find-a-better-value-for-K?-7\"><span class=\"toc-item-num\">7&nbsp;&nbsp;</span>KKN - Can we find a better value for K?</a></span></li><li><span><a href=\"#Logistic-Regression---Can-we-find-a-better-value-for-C?\" data-toc-modified-id=\"Logistic-Regression---Can-we-find-a-better-value-for-C?-8\"><span class=\"toc-item-num\">8&nbsp;&nbsp;</span>Logistic Regression - Can we find a better value for C?</a></span></li><li><span><a href=\"#Conclusion-about-train/test-split\" data-toc-modified-id=\"Conclusion-about-train/test-split-9\"><span class=\"toc-item-num\">9&nbsp;&nbsp;</span>Conclusion about train/test split</a></span></li></ul></div>"
   ]
  },
  {
   "cell_type": "markdown",
   "metadata": {},
   "source": [
    "[`scikit-learn`](https://scikit-learn.org/stable/) is a Python library widely used for machine learning. It's built on `numpy`, `scipy`, and `matplotlib`.\n",
    "\n",
    "This is a practical introduction to `scikit-learn`. This is NOT an introduction to machine learning concepts. Here I am demonstrating the practical aspectes (== code) of machine learning algorithms."
   ]
  },
  {
   "cell_type": "code",
   "execution_count": 1,
   "metadata": {},
   "outputs": [
    {
     "name": "stdout",
     "output_type": "stream",
     "text": [
      "scikit-learn version:  0.24.0\n"
     ]
    }
   ],
   "source": [
    "import pandas as pd\n",
    "import numpy as np\n",
    "import matplotlib.pyplot as plt\n",
    "from matplotlib.colors import ListedColormap\n",
    "import seaborn as sns\n",
    "import sklearn\n",
    "\n",
    "print('scikit-learn version: ', sklearn.__version__)"
   ]
  },
  {
   "cell_type": "code",
   "execution_count": 2,
   "metadata": {},
   "outputs": [],
   "source": [
    "from sklearn import datasets # get datasets that are builtin "
   ]
  },
  {
   "cell_type": "markdown",
   "metadata": {},
   "source": [
    "In notebook [0_SupML_KNeighborClassifier](./0_SupML_KNeighborClassifier.ipynb), we learned about K Nearest Neighbor model. In notebook [1_SupML_LogRegression](./1_SupML_LogRegression.ipynb), we learned about Linear Regression, which, contrary to what the name suggests, is a linear model for classification like KNN.\n",
    "\n",
    "**The goal** is to compare their classification accuracy.\n",
    "\n",
    "We'll first compare model occuracy on the training data, and we'll discuss why this approach isn't very good. Then, we'll use the train/test split approach for fitting and testing a model, and re-calculate the accuracy of the models.\n",
    "\n",
    "Let's go!\n",
    "\n",
    "# Load the iris dataset"
   ]
  },
  {
   "cell_type": "code",
   "execution_count": 4,
   "metadata": {},
   "outputs": [],
   "source": [
    "from sklearn.datasets import load_iris\n",
    "iris = load_iris()"
   ]
  },
  {
   "cell_type": "code",
   "execution_count": 48,
   "metadata": {},
   "outputs": [],
   "source": [
    "X = iris.data[:,:2] # only using septal length and width\n",
    "y = iris.target"
   ]
  },
  {
   "cell_type": "markdown",
   "metadata": {},
   "source": [
    "# Supervised ML - KNN\n",
    "\n",
    "## Run KNN (K = 5)"
   ]
  },
  {
   "cell_type": "code",
   "execution_count": 6,
   "metadata": {},
   "outputs": [],
   "source": [
    "from sklearn import neighbors"
   ]
  },
  {
   "cell_type": "code",
   "execution_count": 23,
   "metadata": {},
   "outputs": [
    {
     "data": {
      "text/plain": [
       "KNeighborsClassifier()"
      ]
     },
     "execution_count": 23,
     "metadata": {},
     "output_type": "execute_result"
    }
   ],
   "source": [
    "# K value\n",
    "n_neighbors = 5 # default == 5\n",
    "\n",
    "# instantiate the estimator\n",
    "knn = neighbors.KNeighborsClassifier(n_neighbors, weights = 'uniform')\n",
    "\n",
    "# fit the model\n",
    "knn.fit(X, y)"
   ]
  },
  {
   "cell_type": "markdown",
   "metadata": {},
   "source": [
    "## Classification accuracy (K = 5)\n",
    "\n",
    "**How do we measure accuracy?** Proportion of correct predictions. It's a type of evaluation metric."
   ]
  },
  {
   "cell_type": "code",
   "execution_count": 13,
   "metadata": {},
   "outputs": [],
   "source": [
    "from sklearn import metrics"
   ]
  },
  {
   "cell_type": "code",
   "execution_count": 30,
   "metadata": {},
   "outputs": [
    {
     "data": {
      "text/plain": [
       "0.8333"
      ]
     },
     "execution_count": 30,
     "metadata": {},
     "output_type": "execute_result"
    }
   ],
   "source": [
    "# predict responses \n",
    "y_pred = knn.predict(X)\n",
    "round(metrics.accuracy_score(y, y_pred),4)"
   ]
  },
  {
   "cell_type": "markdown",
   "metadata": {},
   "source": [
    "This is a training accuracy because we test the model on the same data we used to train/fit the model."
   ]
  },
  {
   "cell_type": "markdown",
   "metadata": {},
   "source": [
    "# Supervised ML - KNN\n",
    "\n",
    "## Run KNN (K = 1)"
   ]
  },
  {
   "cell_type": "code",
   "execution_count": 31,
   "metadata": {},
   "outputs": [
    {
     "data": {
      "text/plain": [
       "KNeighborsClassifier(n_neighbors=1)"
      ]
     },
     "execution_count": 31,
     "metadata": {},
     "output_type": "execute_result"
    }
   ],
   "source": [
    "# K value\n",
    "n_neighbors = 1 # default == 5\n",
    "\n",
    "# instantiate the estimator\n",
    "knn = neighbors.KNeighborsClassifier(n_neighbors, weights = 'uniform')\n",
    "\n",
    "# fit the model\n",
    "knn.fit(X, y)"
   ]
  },
  {
   "cell_type": "markdown",
   "metadata": {},
   "source": [
    "## Classification accuracy (K = 1)"
   ]
  },
  {
   "cell_type": "code",
   "execution_count": 32,
   "metadata": {},
   "outputs": [
    {
     "data": {
      "text/plain": [
       "0.9267"
      ]
     },
     "execution_count": 32,
     "metadata": {},
     "output_type": "execute_result"
    }
   ],
   "source": [
    "# predict responses \n",
    "y_pred = knn.predict(X)\n",
    "round(metrics.accuracy_score(y, y_pred),4)"
   ]
  },
  {
   "cell_type": "markdown",
   "metadata": {},
   "source": [
    "## Conclusion KNN model comparision\n",
    "\n",
    "Classification accuracy of KNN mode improved from 0.833 (K = 5) to 0.927 (K = 1). Therefore, K = 1 is a better hyperparameter.\n",
    "\n",
    "But is it really? Continue to find out..."
   ]
  },
  {
   "cell_type": "markdown",
   "metadata": {},
   "source": [
    "# Supervised ML - Logistic Regression"
   ]
  },
  {
   "cell_type": "markdown",
   "metadata": {},
   "source": [
    "## Run Logistic Regression Model (C = 1e5)"
   ]
  },
  {
   "cell_type": "code",
   "execution_count": 8,
   "metadata": {},
   "outputs": [],
   "source": [
    "from sklearn.linear_model import LogisticRegression"
   ]
  },
  {
   "cell_type": "code",
   "execution_count": 34,
   "metadata": {},
   "outputs": [],
   "source": [
    "# instantiate the estimator\n",
    "logreg = LogisticRegression(C = 1e5) # default C == 1.0, and must be positive\n",
    "\n",
    "# fit the model\n",
    "logreg.fit(X, y)\n",
    "\n",
    "# predict responses\n",
    "y_pred = logreg.predict(X)"
   ]
  },
  {
   "cell_type": "markdown",
   "metadata": {},
   "source": [
    "## Classsification accuracy"
   ]
  },
  {
   "cell_type": "code",
   "execution_count": 35,
   "metadata": {},
   "outputs": [
    {
     "data": {
      "text/plain": [
       "0.83"
      ]
     },
     "execution_count": 35,
     "metadata": {},
     "output_type": "execute_result"
    }
   ],
   "source": [
    "round(metrics.accuracy_score(y, y_pred),2)"
   ]
  },
  {
   "cell_type": "markdown",
   "metadata": {},
   "source": [
    "## Run Logistic Regression Model (C = 1)"
   ]
  },
  {
   "cell_type": "code",
   "execution_count": 46,
   "metadata": {},
   "outputs": [],
   "source": [
    "# instantiate the estimator\n",
    "logreg = LogisticRegression(C = 1) # default C == 1.0, and must be positive\n",
    "\n",
    "# fit the model\n",
    "logreg.fit(X, y)\n",
    "\n",
    "# predict responses\n",
    "y_pred = logreg.predict(X)"
   ]
  },
  {
   "cell_type": "markdown",
   "metadata": {},
   "source": [
    "## Classsification accuracy"
   ]
  },
  {
   "cell_type": "code",
   "execution_count": 49,
   "metadata": {},
   "outputs": [
    {
     "data": {
      "text/plain": [
       "0.82"
      ]
     },
     "execution_count": 49,
     "metadata": {},
     "output_type": "execute_result"
    }
   ],
   "source": [
    "round(metrics.accuracy_score(y, y_pred),2)"
   ]
  },
  {
   "cell_type": "markdown",
   "metadata": {},
   "source": [
    "## Conclusion Logistic Regression model comparision\n",
    "\n",
    "Classification accuracy of the Logistic Regression mode didn't improve significantly ~ 0.83"
   ]
  },
  {
   "cell_type": "markdown",
   "metadata": {},
   "source": [
    "# Problems with training and testing on the same data\n",
    "\n",
    "The goal of a model is to estimate the most likely performance of a model on out-of-sample data, in other words, on new data. Testing the model on the same data used for training might not generalize to new data, so the model might not be reliable for predicting on new data. This can also overfit the training data.\n",
    "\n",
    "In our preliminary conclusion of the accuracy of the KNN models (K=5 vs K=1), we saw that K=1 seemed to have performed better, because the accuracy wass higher. But is it really a better hyperparamenter?\n",
    "\n",
    "**What's a better approach?** A better approach is the **train/test split**"
   ]
  },
  {
   "cell_type": "markdown",
   "metadata": {},
   "source": [
    "# Train/test split\n",
    "\n",
    "The [train/test split](https://scikit-learn.org/stable/modules/generated/sklearn.model_selection.train_test_split.html) approach, the dataset is divided into training and testing sets. The training set is used for training/fit the model, and the testing set is used to make predictions (out-of-sample). In this way, we can get a better classification accuracy.\n",
    "\n",
    "we'll use the `train_test_split()` in which we can pass `test_size` argument. This argument has to be between 0.0 and 1.0, and represent the proportion of the dataset to be assigned to the test split. For instance, 0.4 means 40% of the data to include in the testing set. A general value for split it between 20 and 40%.\n",
    "\n",
    "This assignment occurs at random. Everytime you run the `train_test_split()` on the same set of data, new training and testing data are generated. To control this shuffling of data pieces, pass a random number to the argument `random_state`."
   ]
  },
  {
   "cell_type": "code",
   "execution_count": 51,
   "metadata": {},
   "outputs": [],
   "source": [
    "from sklearn.model_selection import train_test_split"
   ]
  },
  {
   "cell_type": "code",
   "execution_count": 69,
   "metadata": {},
   "outputs": [],
   "source": [
    "X_train, X_test, y_train, y_test = train_test_split(X,\n",
    "                                                    y,\n",
    "                                                    test_size=0.3,\n",
    "                                                    random_state=2021)"
   ]
  },
  {
   "cell_type": "code",
   "execution_count": 70,
   "metadata": {},
   "outputs": [
    {
     "name": "stdout",
     "output_type": "stream",
     "text": [
      "(105, 2)\n",
      "(45, 2)\n"
     ]
    }
   ],
   "source": [
    "# check the sizes of X\n",
    "print(X_train.shape)\n",
    "print(X_test.shape)"
   ]
  },
  {
   "cell_type": "markdown",
   "metadata": {},
   "source": [
    "## Re-test KNN\n",
    "\n",
    "### KNN (K = 5)"
   ]
  },
  {
   "cell_type": "code",
   "execution_count": 71,
   "metadata": {},
   "outputs": [
    {
     "data": {
      "text/plain": [
       "0.8"
      ]
     },
     "execution_count": 71,
     "metadata": {},
     "output_type": "execute_result"
    }
   ],
   "source": [
    "# K value\n",
    "n_neighbors = 5 # default == 5\n",
    "\n",
    "# instantiate the estimator\n",
    "knn = neighbors.KNeighborsClassifier(n_neighbors, weights = 'uniform')\n",
    "\n",
    "# fit the model using the training set\n",
    "knn.fit(X_train, y_train)\n",
    "\n",
    "# predictions on the testing set\n",
    "y_pred = knn.predict(X_test)\n",
    "\n",
    "# get accuracy\n",
    "metrics.accuracy_score(y_test, y_pred)"
   ]
  },
  {
   "cell_type": "markdown",
   "metadata": {},
   "source": [
    "### KNN (K = 1)"
   ]
  },
  {
   "cell_type": "code",
   "execution_count": 72,
   "metadata": {},
   "outputs": [
    {
     "data": {
      "text/plain": [
       "0.73"
      ]
     },
     "execution_count": 72,
     "metadata": {},
     "output_type": "execute_result"
    }
   ],
   "source": [
    "# K value\n",
    "n_neighbors = 1 # default == 5\n",
    "\n",
    "# instantiate the estimator\n",
    "knn = neighbors.KNeighborsClassifier(n_neighbors, weights = 'uniform')\n",
    "\n",
    "# fit the model using the training set\n",
    "knn.fit(X_train, y_train)\n",
    "\n",
    "# predictions on the testing set\n",
    "y_pred = knn.predict(X_test)\n",
    "\n",
    "# get accuracy\n",
    "round(metrics.accuracy_score(y_test, y_pred),2)"
   ]
  },
  {
   "cell_type": "markdown",
   "metadata": {},
   "source": [
    "### Conclusion train/test split for KNN"
   ]
  },
  {
   "cell_type": "markdown",
   "metadata": {},
   "source": [
    "Using the train/test split, we can see that our previous conclusion about this model was incorrect. We indeed ovefit the model using the same training and testing data! "
   ]
  },
  {
   "cell_type": "markdown",
   "metadata": {},
   "source": [
    "## Re-test Logistic Regression"
   ]
  },
  {
   "cell_type": "markdown",
   "metadata": {},
   "source": [
    "### Logistic Regression (C = 1e5)"
   ]
  },
  {
   "cell_type": "code",
   "execution_count": 73,
   "metadata": {},
   "outputs": [
    {
     "data": {
      "text/plain": [
       "0.82"
      ]
     },
     "execution_count": 73,
     "metadata": {},
     "output_type": "execute_result"
    }
   ],
   "source": [
    "# instantiate the estimator\n",
    "logreg = LogisticRegression(C = 1e5) # default C == 1.0, and must be positive\n",
    "\n",
    "# fit the model using the training set\n",
    "logreg.fit(X_train, y_train)\n",
    "\n",
    "# predictions on the testing set\n",
    "y_pred = logreg.predict(X_test)\n",
    "\n",
    "# get accuracy\n",
    "round(metrics.accuracy_score(y_test, y_pred),2)"
   ]
  },
  {
   "cell_type": "markdown",
   "metadata": {},
   "source": [
    "### Logistic Regression (C = 1)"
   ]
  },
  {
   "cell_type": "code",
   "execution_count": 74,
   "metadata": {},
   "outputs": [
    {
     "data": {
      "text/plain": [
       "0.8"
      ]
     },
     "execution_count": 74,
     "metadata": {},
     "output_type": "execute_result"
    }
   ],
   "source": [
    "# instantiate the estimator\n",
    "logreg = LogisticRegression(C = 1) # default C == 1.0, and must be positive\n",
    "\n",
    "# fit the model using the training set\n",
    "logreg.fit(X_train, y_train)\n",
    "\n",
    "# predictions on the testing set\n",
    "y_pred = logreg.predict(X_test)\n",
    "\n",
    "# get accuracy\n",
    "round(metrics.accuracy_score(y_test, y_pred),2)"
   ]
  },
  {
   "cell_type": "markdown",
   "metadata": {},
   "source": [
    "### Conclusion train/test split for Logistic Regression"
   ]
  },
  {
   "cell_type": "markdown",
   "metadata": {},
   "source": [
    "Slight difference (0.02), but the models are ~80% accurate, which might not be enough accuracy."
   ]
  },
  {
   "cell_type": "markdown",
   "metadata": {},
   "source": [
    "# KKN - Can we find a better value for K?\n",
    "\n",
    "Now, we know that train/test split is better, we can tune hyperparamenters. This means that we test the model using a range of parameters. We can plot the predictions and accuracy scores to assess hyperparamenter tuning.\n",
    "\n",
    "But, can we find a better valye for K? Yes. We can run a for loop to run the KKN model, and assess each K value."
   ]
  },
  {
   "cell_type": "code",
   "execution_count": 97,
   "metadata": {},
   "outputs": [
    {
     "data": {
      "text/html": [
       "<div>\n",
       "<style scoped>\n",
       "    .dataframe tbody tr th:only-of-type {\n",
       "        vertical-align: middle;\n",
       "    }\n",
       "\n",
       "    .dataframe tbody tr th {\n",
       "        vertical-align: top;\n",
       "    }\n",
       "\n",
       "    .dataframe thead th {\n",
       "        text-align: right;\n",
       "    }\n",
       "</style>\n",
       "<table border=\"1\" class=\"dataframe\">\n",
       "  <thead>\n",
       "    <tr style=\"text-align: right;\">\n",
       "      <th></th>\n",
       "      <th>n_neighbors</th>\n",
       "      <th>accuracy</th>\n",
       "    </tr>\n",
       "  </thead>\n",
       "  <tbody>\n",
       "    <tr>\n",
       "      <th>0</th>\n",
       "      <td>1</td>\n",
       "      <td>0.73</td>\n",
       "    </tr>\n",
       "    <tr>\n",
       "      <th>1</th>\n",
       "      <td>2</td>\n",
       "      <td>0.76</td>\n",
       "    </tr>\n",
       "    <tr>\n",
       "      <th>2</th>\n",
       "      <td>3</td>\n",
       "      <td>0.82</td>\n",
       "    </tr>\n",
       "    <tr>\n",
       "      <th>3</th>\n",
       "      <td>4</td>\n",
       "      <td>0.80</td>\n",
       "    </tr>\n",
       "    <tr>\n",
       "      <th>4</th>\n",
       "      <td>5</td>\n",
       "      <td>0.80</td>\n",
       "    </tr>\n",
       "  </tbody>\n",
       "</table>\n",
       "</div>"
      ],
      "text/plain": [
       "   n_neighbors  accuracy\n",
       "0            1      0.73\n",
       "1            2      0.76\n",
       "2            3      0.82\n",
       "3            4      0.80\n",
       "4            5      0.80"
      ]
     },
     "execution_count": 97,
     "metadata": {},
     "output_type": "execute_result"
    }
   ],
   "source": [
    "# get a range of values\n",
    "k_range = range(1, 30)\n",
    "\n",
    "# create an empty list to keep the scores\n",
    "scores = []\n",
    "\n",
    "# make the loop\n",
    "for k in k_range:\n",
    "\n",
    "    # instantiate the model\n",
    "    knn = neighbors.KNeighborsClassifier(n_neighbors=k, weights='uniform')\n",
    "\n",
    "    # fit the model using the training set\n",
    "    knn.fit(X_train, y_train)\n",
    "\n",
    "    # predictions on the testing set\n",
    "    y_pred = knn.predict(X_test)\n",
    "\n",
    "    # get accuracy\n",
    "    acc = round(metrics.accuracy_score(y_test, y_pred), 2)\n",
    "    scores.append(acc)\n",
    "    \n",
    "# make a pd.DataFrame\n",
    "knn_result = pd.DataFrame(list(zip(k_range,scores)), columns=['n_neighbors','accuracy'])\n",
    "knn_result.head()"
   ]
  },
  {
   "cell_type": "markdown",
   "metadata": {},
   "source": [
    "Let's plot and see what comes up:"
   ]
  },
  {
   "cell_type": "code",
   "execution_count": 98,
   "metadata": {},
   "outputs": [
    {
     "data": {
      "image/png": "[encoded data removed]",
      "text/plain": [
       "<Figure size 432x288 with 1 Axes>"
      ]
     },
     "metadata": {
      "needs_background": "light"
     },
     "output_type": "display_data"
    }
   ],
   "source": [
    "sns.lineplot(data=knn_result, x='n_neighbors', y='accuracy');"
   ]
  },
  {
   "cell_type": "markdown",
   "metadata": {},
   "source": [
    "**What's the best K value?**\n",
    "\n",
    "K = 29, will yield a 84% accuracy.\n",
    "\n",
    "For KNN models, complexity is determined by the value of K (lower value = more complex)."
   ]
  },
  {
   "cell_type": "code",
   "execution_count": 76,
   "metadata": {},
   "outputs": [
    {
     "data": {
      "text/plain": [
       "n_neighbors    29.00\n",
       "accuracy        0.84\n",
       "dtype: float64"
      ]
     },
     "execution_count": 76,
     "metadata": {},
     "output_type": "execute_result"
    }
   ],
   "source": [
    "knn_result.max()"
   ]
  },
  {
   "cell_type": "markdown",
   "metadata": {},
   "source": [
    "# Logistic Regression - Can we find a better value for C?\n",
    "\n",
    "Let's repeat the optimization we did for KNN for Logistic Regression"
   ]
  },
  {
   "cell_type": "code",
   "execution_count": 117,
   "metadata": {},
   "outputs": [
    {
     "data": {
      "text/html": [
       "<div>\n",
       "<style scoped>\n",
       "    .dataframe tbody tr th:only-of-type {\n",
       "        vertical-align: middle;\n",
       "    }\n",
       "\n",
       "    .dataframe tbody tr th {\n",
       "        vertical-align: top;\n",
       "    }\n",
       "\n",
       "    .dataframe thead th {\n",
       "        text-align: right;\n",
       "    }\n",
       "</style>\n",
       "<table border=\"1\" class=\"dataframe\">\n",
       "  <thead>\n",
       "    <tr style=\"text-align: right;\">\n",
       "      <th></th>\n",
       "      <th>c_value</th>\n",
       "      <th>accuracy</th>\n",
       "    </tr>\n",
       "  </thead>\n",
       "  <tbody>\n",
       "    <tr>\n",
       "      <th>0</th>\n",
       "      <td>1</td>\n",
       "      <td>0.80</td>\n",
       "    </tr>\n",
       "    <tr>\n",
       "      <th>1</th>\n",
       "      <td>11</td>\n",
       "      <td>0.80</td>\n",
       "    </tr>\n",
       "    <tr>\n",
       "      <th>2</th>\n",
       "      <td>21</td>\n",
       "      <td>0.80</td>\n",
       "    </tr>\n",
       "    <tr>\n",
       "      <th>3</th>\n",
       "      <td>31</td>\n",
       "      <td>0.82</td>\n",
       "    </tr>\n",
       "    <tr>\n",
       "      <th>4</th>\n",
       "      <td>41</td>\n",
       "      <td>0.82</td>\n",
       "    </tr>\n",
       "  </tbody>\n",
       "</table>\n",
       "</div>"
      ],
      "text/plain": [
       "   c_value  accuracy\n",
       "0        1      0.80\n",
       "1       11      0.80\n",
       "2       21      0.80\n",
       "3       31      0.82\n",
       "4       41      0.82"
      ]
     },
     "execution_count": 117,
     "metadata": {},
     "output_type": "execute_result"
    }
   ],
   "source": [
    "# get a range of values\n",
    "C_range = list(range(1, 100, 10))\n",
    "\n",
    "# create an empty list to keep the scores\n",
    "scores = []\n",
    "\n",
    "# make the loop\n",
    "for c in C_range:\n",
    "\n",
    "    # instantiate the estimator\n",
    "    logreg = LogisticRegression(C = c) # default C == 1.0, and must be positive\n",
    "\n",
    "    # fit the model using the training set\n",
    "    logreg.fit(X_train, y_train)\n",
    "\n",
    "    # predictions on the testing set\n",
    "    y_pred = logreg.predict(X_test)\n",
    "\n",
    "    # get accuracy\n",
    "    acc = round(metrics.accuracy_score(y_test, y_pred),2)\n",
    "    scores.append(acc)\n",
    "    \n",
    "# make a pd.DataFrame\n",
    "logreg_result = pd.DataFrame(list(zip(C_range,scores)), columns=['c_value','accuracy'])\n",
    "logreg_result.head()"
   ]
  },
  {
   "cell_type": "markdown",
   "metadata": {},
   "source": [
    "Let's plot and see what comes up:"
   ]
  },
  {
   "cell_type": "code",
   "execution_count": 118,
   "metadata": {},
   "outputs": [
    {
     "data": {
      "image/png": "[encoded data removed]",
      "text/plain": [
       "<Figure size 432x288 with 1 Axes>"
      ]
     },
     "metadata": {
      "needs_background": "light"
     },
     "output_type": "display_data"
    }
   ],
   "source": [
    "sns.lineplot(data=logreg_result, x='c_value', y='accuracy');"
   ]
  },
  {
   "cell_type": "markdown",
   "metadata": {},
   "source": [
    "**What's the best C value?**\n",
    "\n",
    "C = 91, will yield a 82% accuracy."
   ]
  },
  {
   "cell_type": "code",
   "execution_count": 119,
   "metadata": {},
   "outputs": [
    {
     "data": {
      "text/plain": [
       "c_value     91.00\n",
       "accuracy     0.82\n",
       "dtype: float64"
      ]
     },
     "execution_count": 119,
     "metadata": {},
     "output_type": "execute_result"
    }
   ],
   "source": [
    "logreg_result.max()"
   ]
  },
  {
   "cell_type": "markdown",
   "metadata": {},
   "source": [
    "# Conclusion about train/test split\n",
    "\n",
    "\n",
    "Advantage: flexible and fast\n",
    "\n",
    "\n",
    "Disadvantage: Train/test split can change a lot depending on the test_size of the split and which samples make it to each split. This can cause a high-variance estimate of out-of-sample accuracy. K-fold cross validation can overcome this limitation."
   ]
  }
 ],
 "metadata": {
  "kernelspec": {
   "display_name": "Python 3",
   "language": "python",
   "name": "python3"
  },
  "language_info": {
   "codemirror_mode": {
    "name": "ipython",
    "version": 3
   },
   "file_extension": ".py",
   "mimetype": "text/x-python",
   "name": "python",
   "nbconvert_exporter": "python",
   "pygments_lexer": "ipython3",
   "version": "3.9.0"
  },
  "toc": {
   "base_numbering": 1,
   "nav_menu": {},
   "number_sections": true,
   "sideBar": true,
   "skip_h1_title": false,
   "title_cell": "Table of Contents",
   "title_sidebar": "Contents",
   "toc_cell": true,
   "toc_position": {},
   "toc_section_display": true,
   "toc_window_display": true
  },
  "varInspector": {
   "cols": {
    "lenName": 16,
    "lenType": 16,
    "lenVar": 40
   },
   "kernels_config": {
    "python": {
     "delete_cmd_postfix": "",
     "delete_cmd_prefix": "del ",
     "library": "var_list.py",
     "varRefreshCmd": "print(var_dic_list())"
    },
    "r": {
     "delete_cmd_postfix": ") ",
     "delete_cmd_prefix": "rm(",
     "library": "var_list.r",
     "varRefreshCmd": "cat(var_dic_list()) "
    }
   },
   "types_to_exclude": [
    "module",
    "function",
    "builtin_function_or_method",
    "instance",
    "_Feature"
   ],
   "window_display": false
  }
 },
 "nbformat": 4,
 "nbformat_minor": 4
}
