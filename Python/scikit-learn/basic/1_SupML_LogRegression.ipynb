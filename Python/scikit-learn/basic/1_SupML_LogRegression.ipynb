{
 "cells": [
  {
   "cell_type": "markdown",
   "metadata": {
    "toc": true
   },
   "source": [
    "<h1>Table of Contents<span class=\"tocSkip\"></span></h1>\n",
    "<div class=\"toc\"><ul class=\"toc-item\"><li><span><a href=\"#Load-the-iris-dataset\" data-toc-modified-id=\"Load-the-iris-dataset-1\"><span class=\"toc-item-num\">1&nbsp;&nbsp;</span>Load the iris dataset</a></span><ul class=\"toc-item\"><li><span><a href=\"#Requirements-for-scikit-learn\" data-toc-modified-id=\"Requirements-for-scikit-learn-1.1\"><span class=\"toc-item-num\">1.1&nbsp;&nbsp;</span>Requirements for <code>scikit-learn</code></a></span></li></ul></li><li><span><a href=\"#Supervised-ML---Logistic-Regression-Classification\" data-toc-modified-id=\"Supervised-ML---Logistic-Regression-Classification-2\"><span class=\"toc-item-num\">2&nbsp;&nbsp;</span>Supervised ML - Logistic Regression Classification</a></span><ul class=\"toc-item\"><li><span><a href=\"#Import-the-class\" data-toc-modified-id=\"Import-the-class-2.1\"><span class=\"toc-item-num\">2.1&nbsp;&nbsp;</span>Import the class</a></span></li><li><span><a href=\"#Initiate-the-estimator\" data-toc-modified-id=\"Initiate-the-estimator-2.2\"><span class=\"toc-item-num\">2.2&nbsp;&nbsp;</span>Initiate the estimator</a></span></li><li><span><a href=\"#Fit-the-model-with-the-data\" data-toc-modified-id=\"Fit-the-model-with-the-data-2.3\"><span class=\"toc-item-num\">2.3&nbsp;&nbsp;</span>Fit the model with the data</a></span></li><li><span><a href=\"#Predict-the-response-for-a-new-observation\" data-toc-modified-id=\"Predict-the-response-for-a-new-observation-2.4\"><span class=\"toc-item-num\">2.4&nbsp;&nbsp;</span>Predict the response for a new observation</a></span></li><li><span><a href=\"#Model-tuning\" data-toc-modified-id=\"Model-tuning-2.5\"><span class=\"toc-item-num\">2.5&nbsp;&nbsp;</span>Model tuning</a></span></li><li><span><a href=\"#Plot-the-decision-boundaries-for-each-class\" data-toc-modified-id=\"Plot-the-decision-boundaries-for-each-class-2.6\"><span class=\"toc-item-num\">2.6&nbsp;&nbsp;</span>Plot the decision boundaries for each class</a></span></li></ul></li></ul></div>"
   ]
  },
  {
   "cell_type": "markdown",
   "metadata": {},
   "source": [
    "[`scikit-learn`](https://scikit-learn.org/stable/) is a Python library widely used for machine learning. It's built on `numpy`, `scipy`, and `matplotlib`.\n",
    "\n",
    "This is a practical introduction to `scikit-learn`. This is NOT an introduction to machine learning concepts. Here I am demonstrating the practical aspectes (== code) of machine learning algorithms."
   ]
  },
  {
   "cell_type": "code",
   "execution_count": 1,
   "metadata": {},
   "outputs": [
    {
     "name": "stdout",
     "output_type": "stream",
     "text": [
      "scikit-learn version:  0.24.0\n"
     ]
    }
   ],
   "source": [
    "import pandas as pd\n",
    "import numpy as np\n",
    "import matplotlib.pyplot as plt\n",
    "from matplotlib.colors import ListedColormap\n",
    "import seaborn as sns\n",
    "import sklearn\n",
    "\n",
    "print('scikit-learn version: ', sklearn.__version__)"
   ]
  },
  {
   "cell_type": "code",
   "execution_count": 2,
   "metadata": {},
   "outputs": [],
   "source": [
    "from sklearn import datasets # get datasets that are builtin "
   ]
  },
  {
   "cell_type": "markdown",
   "metadata": {},
   "source": [
    "As in notebook [0_SupML_KNeighborClassifier](./0_SupML_KNeighborClassifier.ipynb), we'll continue to work with the [iris dataset](https://archive.ics.uci.edu/ml/datasets/iris).\n",
    "\n",
    "The *famous* iris dataset comprises 50 samples of 3 iris species (*Iris setosa*, *I. versicolour*, *I. verginica*). Of all these 150 flower samples, sepal length and width, and petal length and width were collected. Measurements were in centimeters. This dataset is famous because it's fairly simplistic and the prediction is easy.\n",
    "\n",
    "**The goal** is to practice `scikit-learn` code for supervised and unsupervised machine learning.\n",
    "\n",
    "**Exercise on supervised machine learning.** The goal is to distinguish each species based on the sepal and petal attributes. This is an example of supervised machine learning because i) the data is labeled, and ii) we are trying to predict relationship of the data (sepal/petal length and width) to an outcome (i.e., species). This is a **classification** problem because the response being predicted is categorial. \n",
    "\n",
    "The algorithm is called [**Logistic Regression**](https://scikit-learn.org/stable/modules/generated/sklearn.linear_model.LogisticRegression.html#sklearn.linear_model.LogisticRegression), also known as logit and MaxEnt. Don't get confused by its name. Logistic Regression is a linear model for **classification**. Details of the model can be found [here](https://scikit-learn.org/stable/modules/linear_model.html#logistic-regression).\n",
    "\n",
    "Let's go!\n",
    "\n",
    "# Load the iris dataset"
   ]
  },
  {
   "cell_type": "code",
   "execution_count": 3,
   "metadata": {},
   "outputs": [],
   "source": [
    "from sklearn.datasets import load_iris"
   ]
  },
  {
   "cell_type": "code",
   "execution_count": 4,
   "metadata": {
    "scrolled": true
   },
   "outputs": [
    {
     "data": {
      "text/plain": [
       "sklearn.utils.Bunch"
      ]
     },
     "execution_count": 4,
     "metadata": {},
     "output_type": "execute_result"
    }
   ],
   "source": [
    "iris = load_iris()\n",
    "type(iris) # scikit-learn specific data object"
   ]
  },
  {
   "cell_type": "markdown",
   "metadata": {},
   "source": [
    "It's important to know some terms and data organization because they are pretty much convention.\n",
    "\n",
    "- each row of the data is a sample (aka, observation, example, instance, record)\n",
    "- each column is a feature (aka, predictor, attribute, independent variable, input, regressor, covariate)\n",
    "- each value we are predicting is a response (aka, target, outcome, label, dependent variable)"
   ]
  },
  {
   "cell_type": "code",
   "execution_count": 5,
   "metadata": {},
   "outputs": [
    {
     "data": {
      "text/plain": [
       "['DESCR',\n",
       " 'data',\n",
       " 'feature_names',\n",
       " 'filename',\n",
       " 'frame',\n",
       " 'target',\n",
       " 'target_names']"
      ]
     },
     "execution_count": 5,
     "metadata": {},
     "output_type": "execute_result"
    }
   ],
   "source": [
    "# find out the attribues of these data:\n",
    "dir(iris)"
   ]
  },
  {
   "cell_type": "code",
   "execution_count": 6,
   "metadata": {},
   "outputs": [
    {
     "data": {
      "text/plain": [
       "array(['setosa', 'versicolor', 'virginica'], dtype='<U10')"
      ]
     },
     "execution_count": 6,
     "metadata": {},
     "output_type": "execute_result"
    }
   ],
   "source": [
    "# iris.data # data is an array\n",
    "# iris.feature_names # features\n",
    "# iris.target # 0,1,2 for species, response/label\n",
    "iris.target_names # species names in order 0,1,2"
   ]
  },
  {
   "cell_type": "markdown",
   "metadata": {},
   "source": [
    "## Requirements for `scikit-learn`\n",
    "\n",
    "Features and responses must be:\n",
    "- in separate objects\n",
    "- be numeric\n",
    "- be stored in `numpy` arrays\n",
    "- have one response corresponding to each observation, specific shape\n",
    "\n",
    "Let's check:"
   ]
  },
  {
   "cell_type": "code",
   "execution_count": 7,
   "metadata": {},
   "outputs": [
    {
     "data": {
      "text/plain": [
       "array([[5.1, 3.5, 1.4, 0.2],\n",
       "       [4.9, 3. , 1.4, 0.2],\n",
       "       [4.7, 3.2, 1.3, 0.2],\n",
       "       [4.6, 3.1, 1.5, 0.2],\n",
       "       [5. , 3.6, 1.4, 0.2],\n",
       "       [5.4, 3.9, 1.7, 0.4],\n",
       "       [4.6, 3.4, 1.4, 0.3],\n",
       "       [5. , 3.4, 1.5, 0.2],\n",
       "       [4.4, 2.9, 1.4, 0.2],\n",
       "       [4.9, 3.1, 1.5, 0.1]])"
      ]
     },
     "execution_count": 7,
     "metadata": {},
     "output_type": "execute_result"
    }
   ],
   "source": [
    "iris.data[:10,:]"
   ]
  },
  {
   "cell_type": "code",
   "execution_count": 8,
   "metadata": {},
   "outputs": [
    {
     "data": {
      "text/plain": [
       "array([0, 0, 0, 0, 0, 0, 0, 0, 0, 0, 0, 0, 0, 0, 0, 0, 0, 0, 0, 0, 0, 0,\n",
       "       0, 0, 0, 0, 0, 0, 0, 0, 0, 0, 0, 0, 0, 0, 0, 0, 0, 0, 0, 0, 0, 0,\n",
       "       0, 0, 0, 0, 0, 0, 1, 1, 1, 1, 1, 1, 1, 1, 1, 1, 1, 1, 1, 1, 1, 1,\n",
       "       1, 1, 1, 1, 1, 1, 1, 1, 1, 1, 1, 1, 1, 1, 1, 1, 1, 1, 1, 1, 1, 1,\n",
       "       1, 1, 1, 1, 1, 1, 1, 1, 1, 1, 1, 1, 2, 2, 2, 2, 2, 2, 2, 2, 2, 2,\n",
       "       2, 2, 2, 2, 2, 2, 2, 2, 2, 2, 2, 2, 2, 2, 2, 2, 2, 2, 2, 2, 2, 2,\n",
       "       2, 2, 2, 2, 2, 2, 2, 2, 2, 2, 2, 2, 2, 2, 2, 2, 2, 2])"
      ]
     },
     "execution_count": 8,
     "metadata": {},
     "output_type": "execute_result"
    }
   ],
   "source": [
    "iris.target"
   ]
  },
  {
   "cell_type": "code",
   "execution_count": 9,
   "metadata": {},
   "outputs": [
    {
     "name": "stdout",
     "output_type": "stream",
     "text": [
      "<class 'numpy.ndarray'>\n",
      "<class 'numpy.ndarray'>\n"
     ]
    }
   ],
   "source": [
    "print(type(iris.data))\n",
    "print(type(iris.target))"
   ]
  },
  {
   "cell_type": "code",
   "execution_count": 10,
   "metadata": {},
   "outputs": [
    {
     "name": "stdout",
     "output_type": "stream",
     "text": [
      "(150, 4)\n",
      "(150,)\n"
     ]
    }
   ],
   "source": [
    "print(iris.data.shape)\n",
    "print(iris.target.shape)"
   ]
  },
  {
   "cell_type": "markdown",
   "metadata": {},
   "source": [
    "Check, check, check, check!"
   ]
  },
  {
   "cell_type": "markdown",
   "metadata": {},
   "source": [
    "# Supervised ML - Logistic Regression Classification\n",
    "\n",
    "As convention, observations (data) should be stored in a variable called `X` (capitalized, represents a matrix), and the response should be stored in a variable called `y` (lowercase, represents a vector).\n",
    "\n",
    "Using convention is highly recommended because not only keeps everything standardized and organized, but also makes it easier to collaborate with others. Another advantage is that it's easier and faster to test code you find online if you stick to the conventions. \n",
    "\n",
    "An interesting detail is that `scikit-learn`'s interface of ML models has a common pattern across different models, which makes it easier to recycle code ;)\n",
    "\n",
    "Instead of using all four features, let's use two so we can plot a countour plot later. Let's use sepal length and width."
   ]
  },
  {
   "cell_type": "code",
   "execution_count": 5,
   "metadata": {},
   "outputs": [],
   "source": [
    "X = iris.data[:,:2]\n",
    "y = iris.target"
   ]
  },
  {
   "cell_type": "markdown",
   "metadata": {},
   "source": [
    "## Import the class"
   ]
  },
  {
   "cell_type": "code",
   "execution_count": 6,
   "metadata": {},
   "outputs": [],
   "source": [
    "# import the class\n",
    "from sklearn.linear_model import LogisticRegression"
   ]
  },
  {
   "cell_type": "markdown",
   "metadata": {},
   "source": [
    "## Initiate the estimator"
   ]
  },
  {
   "cell_type": "markdown",
   "metadata": {},
   "source": [
    " `scikit-learn` refers to its models as estimators because their role is to estimate stuff.\n",
    " \n",
    "To use one of their estimators, we need to create an instance of the estimator as an object. I think of an instance like a copy of the estimator that you can use.\n",
    "\n",
    "Import things to think when instantiating:\n",
    "- the name of the object doesn't matter, but it's recommended to use a name that reflects the model it represents\n",
    "    - in this case, we could use `logreg` (estimator name)\n",
    "- specify hyperparameters (or tunning parameter) during this step\n",
    "- there are other parameters that can be not specified, and thus using their default value"
   ]
  },
  {
   "cell_type": "code",
   "execution_count": 7,
   "metadata": {},
   "outputs": [],
   "source": [
    "?LogisticRegression"
   ]
  },
  {
   "cell_type": "code",
   "execution_count": 8,
   "metadata": {},
   "outputs": [],
   "source": [
    "# instantiate the estimator\n",
    "logreg = LogisticRegression(C = 1e5) # default C == 1.0, and must be positive"
   ]
  },
  {
   "cell_type": "markdown",
   "metadata": {},
   "source": [
    "## Fit the model with the data\n",
    "\n",
    "This is model training. The model learns the data between the features and the response.\n",
    "\n",
    "Occurs in place"
   ]
  },
  {
   "cell_type": "code",
   "execution_count": 9,
   "metadata": {},
   "outputs": [
    {
     "data": {
      "text/plain": [
       "LogisticRegression(C=100000.0)"
      ]
     },
     "execution_count": 9,
     "metadata": {},
     "output_type": "execute_result"
    }
   ],
   "source": [
    "logreg.fit(X, y)"
   ]
  },
  {
   "cell_type": "markdown",
   "metadata": {},
   "source": [
    "## Predict the response for a new observation\n",
    "\n",
    "New samples are called out-of-sample data. We use the model we trained above to predict new responses."
   ]
  },
  {
   "cell_type": "code",
   "execution_count": 10,
   "metadata": {},
   "outputs": [
    {
     "name": "stdout",
     "output_type": "stream",
     "text": [
      "150\n"
     ]
    }
   ],
   "source": [
    "y_pred = logreg.predict(X)\n",
    "\n",
    "# how many were generated\n",
    "print(len(y_pred))"
   ]
  },
  {
   "cell_type": "markdown",
   "metadata": {},
   "source": [
    "## Model tuning\n",
    "\n",
    "Tuning hyperparamenters is when you test different paramets in the model, like a new value for K (n_neighbors)"
   ]
  },
  {
   "cell_type": "code",
   "execution_count": 11,
   "metadata": {},
   "outputs": [
    {
     "data": {
      "text/plain": [
       "LogisticRegression(C=1000.0)"
      ]
     },
     "execution_count": 11,
     "metadata": {},
     "output_type": "execute_result"
    }
   ],
   "source": [
    "logreg = LogisticRegression(C = 1e3)\n",
    "logreg.fit(X, y)"
   ]
  },
  {
   "cell_type": "markdown",
   "metadata": {},
   "source": [
    "## Plot the decision boundaries for each class\n",
    "\n",
    "We can plot the boundaries for each response based on the relationship of two features, e.g., sepal length and petal length.\n",
    "\n",
    "For that, we'll need to redo the model to account for those two features we are interested in. We can't plot a 4D countour plot... "
   ]
  },
  {
   "cell_type": "code",
   "execution_count": 13,
   "metadata": {
    "scrolled": true
   },
   "outputs": [],
   "source": [
    "# boundaries\n",
    "x_min, x_max = X[:, 0].min() - 1, X[:, 0].max() + 1  # sepal length\n",
    "y_min, y_max = X[:, 1].min() - 1, X[:, 1].max() + 1  # petal length\n",
    "\n",
    "# step size in the np.meshgrid\n",
    "h = 0.02\n",
    "\n",
    "# meshgrid returns a matrix from vector coordinates\n",
    "xx, yy = np.meshgrid(np.arange(x_min, x_max, h), np.arange(y_min, y_max, h))\n",
    "\n",
    "# np.c_ == Translates slice objects to concatenation along the second axis\n",
    "# ravel() == Return a contiguous flattened array\n",
    "Z = logreg.predict(np.c_[xx.ravel(), yy.ravel()])\n",
    "\n",
    "Z = Z.reshape(xx.shape)"
   ]
  },
  {
   "cell_type": "code",
   "execution_count": 14,
   "metadata": {},
   "outputs": [
    {
     "data": {
      "image/png": "[encoded data removed]",
      "text/plain": [
       "<Figure size 576x432 with 1 Axes>"
      ]
     },
     "metadata": {
      "needs_background": "light"
     },
     "output_type": "display_data"
    }
   ],
   "source": [
    "# Create color maps\n",
    "# inspiration for the palettes == https://www.color-hex.com/color-palettes/\n",
    "cmap = ListedColormap(['#cc79a7', '#0072b2', '#d55e00']) # this is for the coutour\n",
    "cmap_ = ['#cc79a7', '#0072b2', '#d55e00'] # this is for the scatter\n",
    "\n",
    "plt.figure(figsize=(8, 6))\n",
    "plt.contourf(xx, yy, Z, cmap=cmap)\n",
    "\n",
    "# Plot also the training points\n",
    "sns.scatterplot(x=X[:, 0],\n",
    "                y=X[:, 1],\n",
    "                hue=iris.target_names[y],\n",
    "                palette=cmap_,\n",
    "                alpha=1.0,\n",
    "                edgecolor=\"black\")\n",
    "plt.xlim(xx.min(), xx.max())\n",
    "plt.ylim(yy.min(), yy.max())\n",
    "plt.xlabel(iris.feature_names[0])\n",
    "plt.ylabel(iris.feature_names[1])\n",
    "\n",
    "plt.show()"
   ]
  },
  {
   "cell_type": "code",
   "execution_count": null,
   "metadata": {},
   "outputs": [],
   "source": []
  }
 ],
 "metadata": {
  "kernelspec": {
   "display_name": "Python 3",
   "language": "python",
   "name": "python3"
  },
  "language_info": {
   "codemirror_mode": {
    "name": "ipython",
    "version": 3
   },
   "file_extension": ".py",
   "mimetype": "text/x-python",
   "name": "python",
   "nbconvert_exporter": "python",
   "pygments_lexer": "ipython3",
   "version": "3.9.0"
  },
  "toc": {
   "base_numbering": 1,
   "nav_menu": {},
   "number_sections": true,
   "sideBar": true,
   "skip_h1_title": false,
   "title_cell": "Table of Contents",
   "title_sidebar": "Contents",
   "toc_cell": true,
   "toc_position": {},
   "toc_section_display": true,
   "toc_window_display": true
  },
  "varInspector": {
   "cols": {
    "lenName": 16,
    "lenType": 16,
    "lenVar": 40
   },
   "kernels_config": {
    "python": {
     "delete_cmd_postfix": "",
     "delete_cmd_prefix": "del ",
     "library": "var_list.py",
     "varRefreshCmd": "print(var_dic_list())"
    },
    "r": {
     "delete_cmd_postfix": ") ",
     "delete_cmd_prefix": "rm(",
     "library": "var_list.r",
     "varRefreshCmd": "cat(var_dic_list()) "
    }
   },
   "types_to_exclude": [
    "module",
    "function",
    "builtin_function_or_method",
    "instance",
    "_Feature"
   ],
   "window_display": false
  }
 },
 "nbformat": 4,
 "nbformat_minor": 4
}
