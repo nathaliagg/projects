{
 "cells": [
  {
   "cell_type": "markdown",
   "metadata": {},
   "source": [
    "# Installing Python\n",
    "\n",
    "If you need to install `Python`, please follow the instructions in this [link](https://swcarpentry.github.io/python-novice-inflammation/setup.html). This link is from The Carpentries website. I am a certified instructor for The Carpentries, and they have great documentation on how to setup your computer. \n",
    "\n",
    "**TL;DR:** The easiest way is to install Python is through [Anaconda](https://docs.anaconda.com/anaconda/install/). You can follow the instructions depending on your operating system."
   ]
  },
  {
   "cell_type": "markdown",
   "metadata": {},
   "source": [
    "# Installing Python libraries\n",
    "\n",
    "The Python library I use the most is `pandas`. So, you'll need to install it as well. There are many ways you can install a library. You can use `conda install` or `pip install`. \n",
    "\n",
    "**Which one do I use?** First, check the online and official documentation for the library or package you want to install. The proper instructions will be listed there. For instance, [`pandas`](https://pandas.pydata.org/docs/getting_started/install.html) documentation has in depth instructions on how to install it properly. Well maintained libraries most likely have great documentation online.\n",
    "\n",
    "I normally use `pip`, which is convenient because we can also install libraries from Jupyter notebook like so:"
   ]
  },
  {
   "cell_type": "code",
   "execution_count": 1,
   "metadata": {},
   "outputs": [
    {
     "name": "stdout",
     "output_type": "stream",
     "text": [
      "Requirement already satisfied: pandas in /Library/Frameworks/Python.framework/Versions/3.9/lib/python3.9/site-packages (1.2.0)\r\n",
      "Requirement already satisfied: pytz>=2017.3 in /Library/Frameworks/Python.framework/Versions/3.9/lib/python3.9/site-packages (from pandas) (2020.4)\r\n",
      "Requirement already satisfied: python-dateutil>=2.7.3 in /Library/Frameworks/Python.framework/Versions/3.9/lib/python3.9/site-packages (from pandas) (2.8.1)\r\n",
      "Requirement already satisfied: numpy>=1.16.5 in /Library/Frameworks/Python.framework/Versions/3.9/lib/python3.9/site-packages (from pandas) (1.19.4)\r\n",
      "Requirement already satisfied: six>=1.5 in /Library/Frameworks/Python.framework/Versions/3.9/lib/python3.9/site-packages (from python-dateutil>=2.7.3->pandas) (1.15.0)\r\n"
     ]
    }
   ],
   "source": [
    "!pip install pandas"
   ]
  },
  {
   "cell_type": "markdown",
   "metadata": {},
   "source": [
    "I already have `pandas` installed, but if you don't have it, the output will be different. When you install `pandas` and any other library, Python will also install dependencies, which are libraries that the library we are installing depends on to function properly. \n",
    "\n",
    "Installation might take a while..."
   ]
  },
  {
   "cell_type": "markdown",
   "metadata": {},
   "source": [
    "# Jupyter Notebooks\n",
    "\n",
    "I believe Python through Anaconda ships with jupyter already. To open a Jupyter Notebook, follow the instructions under `Launch Python Interface` and `Option A: Jupyter Notebook` in this [link](https://swcarpentry.github.io/python-novice-inflammation/setup.html).  "
   ]
  },
  {
   "cell_type": "markdown",
   "metadata": {},
   "source": [
    "# Jupyter Tricks\n",
    "\n",
    "I love jupyter tricks!!\n",
    "- [Shortcuts](https://www.dataquest.io/blog/jupyter-notebook-tips-tricks-shortcuts/)\n",
    "- [Use Jupyter more efficiently](https://towardsdatascience.com/15-tips-and-tricks-to-use-jupyter-notebook-more-efficiently-ef05ede4e4b9)\n",
    "- [Ease your coding experience](https://towardsdatascience.com/15-tips-and-tricks-for-jupyter-notebook-that-will-ease-your-coding-experience-e469207ac95c)\n",
    "- [Some neat Jupyter tricks](https://medium.com/swlh/some-neat-jupyter-tricks-be0775c3f17)\n",
    "- [Jupyter Notebook: Little-Known Tricks!](https://medium.com/3blades-blog/jupyter-notebook-little-known-tricks-b0866a558017)"
   ]
  },
  {
   "cell_type": "markdown",
   "metadata": {},
   "source": [
    "# Unofficial Jupyter Notebook Extensions\n",
    "\n",
    "This is optional, but I have tested and use regularly a few of [NBExtensions](https://jupyter-contrib-nbextensions.readthedocs.io/en/latest/). If you start using Jupyter a lot and are used to installing libraries, it might be useful to check them out."
   ]
  }
 ],
 "metadata": {
  "kernelspec": {
   "display_name": "Python 3",
   "language": "python",
   "name": "python3"
  },
  "language_info": {
   "codemirror_mode": {
    "name": "ipython",
    "version": 3
   },
   "file_extension": ".py",
   "mimetype": "text/x-python",
   "name": "python",
   "nbconvert_exporter": "python",
   "pygments_lexer": "ipython3",
   "version": "3.9.0"
  },
  "toc": {
   "base_numbering": 1,
   "nav_menu": {},
   "number_sections": true,
   "sideBar": true,
   "skip_h1_title": false,
   "title_cell": "Table of Contents",
   "title_sidebar": "Contents",
   "toc_cell": false,
   "toc_position": {},
   "toc_section_display": true,
   "toc_window_display": false
  },
  "varInspector": {
   "cols": {
    "lenName": 16,
    "lenType": 16,
    "lenVar": 40
   },
   "kernels_config": {
    "python": {
     "delete_cmd_postfix": "",
     "delete_cmd_prefix": "del ",
     "library": "var_list.py",
     "varRefreshCmd": "print(var_dic_list())"
    },
    "r": {
     "delete_cmd_postfix": ") ",
     "delete_cmd_prefix": "rm(",
     "library": "var_list.r",
     "varRefreshCmd": "cat(var_dic_list()) "
    }
   },
   "types_to_exclude": [
    "module",
    "function",
    "builtin_function_or_method",
    "instance",
    "_Feature"
   ],
   "window_display": false
  }
 },
 "nbformat": 4,
 "nbformat_minor": 4
}
