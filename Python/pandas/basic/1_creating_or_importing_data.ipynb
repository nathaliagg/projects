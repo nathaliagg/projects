{
 "cells": [
  {
   "cell_type": "markdown",
   "metadata": {},
   "source": [
    "`pandas` and `numpy` work hand in hand. I always import both libraries whenever I am working with tabular data with `pandas`."
   ]
  },
  {
   "cell_type": "code",
   "execution_count": 1,
   "metadata": {},
   "outputs": [
    {
     "name": "stdout",
     "output_type": "stream",
     "text": [
      "pandas version:  1.2.0\n",
      "numpy version:  1.19.4\n"
     ]
    }
   ],
   "source": [
    "import pandas as pd\n",
    "import numpy as np\n",
    "\n",
    "print('pandas version: ', pd.__version__)\n",
    "print('numpy version: ', np.__version__)"
   ]
  },
  {
   "cell_type": "markdown",
   "metadata": {},
   "source": [
    "# Creating a dataframe\n",
    "\n",
    "Let's create dataframes from mock data in lists, tuple, dictionary, and `numpy`.\n",
    "\n",
    "**Why creating mock data?**\n",
    "Most often than not, you will be handed data pieces that are not formatted nicely into a table (e.g., .tsv, .csv). So, knowing how to transform lists of lists or a dictionary into a dataframe can save you a lot of time. Creating a small mock dataset can be useful when you are testing out code you found online (e.g. from StackOverflow). Instead of testing it out on your entire dataset, which can be large and time consuming, you can test the code quickly on a smaller data, and then, once you are sure the code does what you need it to do, you can apply it to our entire dataset.\n",
    "\n",
    "In the examples that follow, I'll be using random sample identifications and values to build dataframes.\n",
    "\n",
    "## from lists"
   ]
  },
  {
   "cell_type": "code",
   "execution_count": 2,
   "metadata": {},
   "outputs": [
    {
     "data": {
      "text/html": [
       "<div>\n",
       "<style scoped>\n",
       "    .dataframe tbody tr th:only-of-type {\n",
       "        vertical-align: middle;\n",
       "    }\n",
       "\n",
       "    .dataframe tbody tr th {\n",
       "        vertical-align: top;\n",
       "    }\n",
       "\n",
       "    .dataframe thead th {\n",
       "        text-align: right;\n",
       "    }\n",
       "</style>\n",
       "<table border=\"1\" class=\"dataframe\">\n",
       "  <thead>\n",
       "    <tr style=\"text-align: right;\">\n",
       "      <th></th>\n",
       "      <th>sampleID</th>\n",
       "      <th>value</th>\n",
       "    </tr>\n",
       "  </thead>\n",
       "  <tbody>\n",
       "    <tr>\n",
       "      <th>0</th>\n",
       "      <td>sample_1</td>\n",
       "      <td>33</td>\n",
       "    </tr>\n",
       "    <tr>\n",
       "      <th>1</th>\n",
       "      <td>sample_2</td>\n",
       "      <td>45</td>\n",
       "    </tr>\n",
       "    <tr>\n",
       "      <th>2</th>\n",
       "      <td>sample_3</td>\n",
       "      <td>99</td>\n",
       "    </tr>\n",
       "    <tr>\n",
       "      <th>3</th>\n",
       "      <td>sample_4</td>\n",
       "      <td>87</td>\n",
       "    </tr>\n",
       "  </tbody>\n",
       "</table>\n",
       "</div>"
      ],
      "text/plain": [
       "   sampleID  value\n",
       "0  sample_1     33\n",
       "1  sample_2     45\n",
       "2  sample_3     99\n",
       "3  sample_4     87"
      ]
     },
     "execution_count": 2,
     "metadata": {},
     "output_type": "execute_result"
    }
   ],
   "source": [
    "# lists with corresponding data\n",
    "list_names = ['sample_1', 'sample_2', 'sample_3', 'sample_4']\n",
    "list_values = [33, 45, 99, 87]\n",
    "\n",
    "# make a df, and pass the column names\n",
    "pd.DataFrame(list(zip(list_names, list_values)), columns=['sampleID', 'value'])"
   ]
  },
  {
   "cell_type": "markdown",
   "metadata": {},
   "source": [
    "Teoretically, `list(zip(list_names, list_values))` zips two lists into a list of tuples. Each item in the list (== each tuple) becames a row."
   ]
  },
  {
   "cell_type": "code",
   "execution_count": 3,
   "metadata": {},
   "outputs": [
    {
     "data": {
      "text/plain": [
       "[('sample_1', 33), ('sample_2', 45), ('sample_3', 99), ('sample_4', 87)]"
      ]
     },
     "execution_count": 3,
     "metadata": {},
     "output_type": "execute_result"
    }
   ],
   "source": [
    "# this is what list(zip()) returns\n",
    "list(zip(list_names, list_values))"
   ]
  },
  {
   "cell_type": "markdown",
   "metadata": {},
   "source": [
    "This also applies if you have a list of lists, but, in this case, we don't need to zip them."
   ]
  },
  {
   "cell_type": "code",
   "execution_count": 4,
   "metadata": {},
   "outputs": [
    {
     "data": {
      "text/html": [
       "<div>\n",
       "<style scoped>\n",
       "    .dataframe tbody tr th:only-of-type {\n",
       "        vertical-align: middle;\n",
       "    }\n",
       "\n",
       "    .dataframe tbody tr th {\n",
       "        vertical-align: top;\n",
       "    }\n",
       "\n",
       "    .dataframe thead th {\n",
       "        text-align: right;\n",
       "    }\n",
       "</style>\n",
       "<table border=\"1\" class=\"dataframe\">\n",
       "  <thead>\n",
       "    <tr style=\"text-align: right;\">\n",
       "      <th></th>\n",
       "      <th>sampleID</th>\n",
       "      <th>value</th>\n",
       "    </tr>\n",
       "  </thead>\n",
       "  <tbody>\n",
       "    <tr>\n",
       "      <th>0</th>\n",
       "      <td>sample_1</td>\n",
       "      <td>33</td>\n",
       "    </tr>\n",
       "    <tr>\n",
       "      <th>1</th>\n",
       "      <td>sample_2</td>\n",
       "      <td>45</td>\n",
       "    </tr>\n",
       "    <tr>\n",
       "      <th>2</th>\n",
       "      <td>sample_3</td>\n",
       "      <td>99</td>\n",
       "    </tr>\n",
       "    <tr>\n",
       "      <th>3</th>\n",
       "      <td>sample_4</td>\n",
       "      <td>87</td>\n",
       "    </tr>\n",
       "  </tbody>\n",
       "</table>\n",
       "</div>"
      ],
      "text/plain": [
       "   sampleID  value\n",
       "0  sample_1     33\n",
       "1  sample_2     45\n",
       "2  sample_3     99\n",
       "3  sample_4     87"
      ]
     },
     "execution_count": 4,
     "metadata": {},
     "output_type": "execute_result"
    }
   ],
   "source": [
    "# using list of lists\n",
    "list_of_lists = [['sample_1', 33], ['sample_2', 45], ['sample_3', 99],\n",
    "                 ['sample_4', 87]]\n",
    "\n",
    "# same as before, but no need to list(zip())\n",
    "pd.DataFrame(list_of_lists, columns=['sampleID', 'value'])"
   ]
  },
  {
   "cell_type": "markdown",
   "metadata": {},
   "source": [
    "## from dictionary\n",
    "\n",
    "There are a few ways to transform a dictionary into a dataframe, and it depends on how your dictionary is structured.\n",
    "\n",
    "### keys as rows\n",
    "\n",
    "If you want keys into rows, we have to pass `orient='index'` (index refers to rows)."
   ]
  },
  {
   "cell_type": "code",
   "execution_count": 5,
   "metadata": {
    "scrolled": true
   },
   "outputs": [
    {
     "data": {
      "text/html": [
       "<div>\n",
       "<style scoped>\n",
       "    .dataframe tbody tr th:only-of-type {\n",
       "        vertical-align: middle;\n",
       "    }\n",
       "\n",
       "    .dataframe tbody tr th {\n",
       "        vertical-align: top;\n",
       "    }\n",
       "\n",
       "    .dataframe thead th {\n",
       "        text-align: right;\n",
       "    }\n",
       "</style>\n",
       "<table border=\"1\" class=\"dataframe\">\n",
       "  <thead>\n",
       "    <tr style=\"text-align: right;\">\n",
       "      <th></th>\n",
       "      <th>0</th>\n",
       "    </tr>\n",
       "  </thead>\n",
       "  <tbody>\n",
       "    <tr>\n",
       "      <th>sample_1</th>\n",
       "      <td>33</td>\n",
       "    </tr>\n",
       "    <tr>\n",
       "      <th>sample_2</th>\n",
       "      <td>45</td>\n",
       "    </tr>\n",
       "    <tr>\n",
       "      <th>sample_3</th>\n",
       "      <td>99</td>\n",
       "    </tr>\n",
       "    <tr>\n",
       "      <th>sample_4</th>\n",
       "      <td>87</td>\n",
       "    </tr>\n",
       "  </tbody>\n",
       "</table>\n",
       "</div>"
      ],
      "text/plain": [
       "           0\n",
       "sample_1  33\n",
       "sample_2  45\n",
       "sample_3  99\n",
       "sample_4  87"
      ]
     },
     "execution_count": 5,
     "metadata": {},
     "output_type": "execute_result"
    }
   ],
   "source": [
    "# dictionary with data\n",
    "dict_data = {'sample_1': 33, 'sample_2': 45, 'sample_3': 99, 'sample_4': 87}\n",
    "\n",
    "pd.DataFrame.from_dict(dict_data, orient=\"index\")"
   ]
  },
  {
   "cell_type": "markdown",
   "metadata": {},
   "source": [
    "If you have values of each key as a list, this is how it would turn out:"
   ]
  },
  {
   "cell_type": "code",
   "execution_count": 6,
   "metadata": {},
   "outputs": [
    {
     "data": {
      "text/html": [
       "<div>\n",
       "<style scoped>\n",
       "    .dataframe tbody tr th:only-of-type {\n",
       "        vertical-align: middle;\n",
       "    }\n",
       "\n",
       "    .dataframe tbody tr th {\n",
       "        vertical-align: top;\n",
       "    }\n",
       "\n",
       "    .dataframe thead th {\n",
       "        text-align: right;\n",
       "    }\n",
       "</style>\n",
       "<table border=\"1\" class=\"dataframe\">\n",
       "  <thead>\n",
       "    <tr style=\"text-align: right;\">\n",
       "      <th></th>\n",
       "      <th>reader_1</th>\n",
       "      <th>reader_2</th>\n",
       "      <th>reader_3</th>\n",
       "    </tr>\n",
       "  </thead>\n",
       "  <tbody>\n",
       "    <tr>\n",
       "      <th>sample_1</th>\n",
       "      <td>33</td>\n",
       "      <td>10.0</td>\n",
       "      <td>1.20</td>\n",
       "    </tr>\n",
       "    <tr>\n",
       "      <th>sample_2</th>\n",
       "      <td>45</td>\n",
       "      <td>8.0</td>\n",
       "      <td>1.00</td>\n",
       "    </tr>\n",
       "    <tr>\n",
       "      <th>sample_3</th>\n",
       "      <td>99</td>\n",
       "      <td>5.0</td>\n",
       "      <td>2.00</td>\n",
       "    </tr>\n",
       "    <tr>\n",
       "      <th>sample_4</th>\n",
       "      <td>87</td>\n",
       "      <td>4.5</td>\n",
       "      <td>1.75</td>\n",
       "    </tr>\n",
       "  </tbody>\n",
       "</table>\n",
       "</div>"
      ],
      "text/plain": [
       "          reader_1  reader_2  reader_3\n",
       "sample_1        33      10.0      1.20\n",
       "sample_2        45       8.0      1.00\n",
       "sample_3        99       5.0      2.00\n",
       "sample_4        87       4.5      1.75"
      ]
     },
     "execution_count": 6,
     "metadata": {},
     "output_type": "execute_result"
    }
   ],
   "source": [
    "# dictionary with data, values as lists\n",
    "dict_data = {\n",
    "    'sample_1': [33, 10, 1.2],\n",
    "    'sample_2': [45, 8, 1.0],\n",
    "    'sample_3': [99, 5, 2],\n",
    "    'sample_4': [87, 4.5, 1.75]\n",
    "}\n",
    "\n",
    "# we can also pass column names\n",
    "pd.DataFrame.from_dict(dict_data,\n",
    "                       orient='index',\n",
    "                       columns=['reader_1', 'reader_2', 'reader_3'])"
   ]
  },
  {
   "cell_type": "markdown",
   "metadata": {},
   "source": [
    "### keys as columns\n",
    "\n",
    "The default is to turn dictionary keys into columns, i.e., `orient='columns'`."
   ]
  },
  {
   "cell_type": "code",
   "execution_count": 7,
   "metadata": {},
   "outputs": [
    {
     "data": {
      "text/html": [
       "<div>\n",
       "<style scoped>\n",
       "    .dataframe tbody tr th:only-of-type {\n",
       "        vertical-align: middle;\n",
       "    }\n",
       "\n",
       "    .dataframe tbody tr th {\n",
       "        vertical-align: top;\n",
       "    }\n",
       "\n",
       "    .dataframe thead th {\n",
       "        text-align: right;\n",
       "    }\n",
       "</style>\n",
       "<table border=\"1\" class=\"dataframe\">\n",
       "  <thead>\n",
       "    <tr style=\"text-align: right;\">\n",
       "      <th></th>\n",
       "      <th>sample_1</th>\n",
       "      <th>sample_2</th>\n",
       "      <th>sample_3</th>\n",
       "      <th>sample_4</th>\n",
       "    </tr>\n",
       "  </thead>\n",
       "  <tbody>\n",
       "    <tr>\n",
       "      <th>0</th>\n",
       "      <td>33.0</td>\n",
       "      <td>45.0</td>\n",
       "      <td>99</td>\n",
       "      <td>87.00</td>\n",
       "    </tr>\n",
       "    <tr>\n",
       "      <th>1</th>\n",
       "      <td>10.0</td>\n",
       "      <td>8.0</td>\n",
       "      <td>5</td>\n",
       "      <td>4.50</td>\n",
       "    </tr>\n",
       "    <tr>\n",
       "      <th>2</th>\n",
       "      <td>1.2</td>\n",
       "      <td>1.0</td>\n",
       "      <td>2</td>\n",
       "      <td>1.75</td>\n",
       "    </tr>\n",
       "  </tbody>\n",
       "</table>\n",
       "</div>"
      ],
      "text/plain": [
       "   sample_1  sample_2  sample_3  sample_4\n",
       "0      33.0      45.0        99     87.00\n",
       "1      10.0       8.0         5      4.50\n",
       "2       1.2       1.0         2      1.75"
      ]
     },
     "execution_count": 7,
     "metadata": {},
     "output_type": "execute_result"
    }
   ],
   "source": [
    "# dictionary with data, values as lists\n",
    "dict_data = {\n",
    "    'sample_1': [33, 10, 1.2],\n",
    "    'sample_2': [45, 8, 1.0],\n",
    "    'sample_3': [99, 5, 2],\n",
    "    'sample_4': [87, 4.5, 1.75]\n",
    "}\n",
    "\n",
    "pd.DataFrame(dict_data)"
   ]
  },
  {
   "cell_type": "markdown",
   "metadata": {},
   "source": [
    "<a id='from_url'></a>\n",
    "## from data in a URL\n",
    "\n",
    "We often come across tabular data online freely available for people to use. You could download the data or save it in your computer prior to analyzing it, but that is not super necessary. For example, the TidyTuesday project (this is an R project, but nevermind...). \n",
    "\n",
    "A new dataset is posted weekly on their [GitHub repo](https://github.com/rfordatascience/tidytuesday) so people in the community can practice and sharpen their data science skills. Their latest dataset was [Christmas Music Billboards](https://github.com/rfordatascience/tidytuesday/tree/master/data/2019/2019-12-24). \n",
    "\n",
    "We'll need the raw data and URL link. This is how you get it:\n",
    "\n",
    "1. Go to the [repo](https://github.com/rfordatascience/tidytuesday/tree/master/data/2019/2019-12-24), and click on `christmas_songs.csv`:\n",
    "<img src=\"github_1.png\" alt=\"First step\" style=\"width: 1000px;\"/>\n",
    "\n",
    "2. Click in `raw` on the right:\n",
    "<img src=\"github_2.png\" alt=\"Second step\" style=\"width: 1000px;\"/>\n",
    "\n",
    "3. Finally, select and copy the URL:\n",
    "<img src=\"github_3.png\" alt=\"Third step\" style=\"width: 900px;\"/>\n",
    "\n",
    "We're ready, let's import these data:"
   ]
  },
  {
   "cell_type": "code",
   "execution_count": 8,
   "metadata": {},
   "outputs": [],
   "source": [
    "# paste the url here\n",
    "data_from_url = 'https://raw.githubusercontent.com/rfordatascience/tidytuesday/master/data/2019/2019-12-24/christmas_songs.csv'"
   ]
  },
  {
   "cell_type": "markdown",
   "metadata": {},
   "source": [
    "Before we can import, we have to load two other libraries for this to work:"
   ]
  },
  {
   "cell_type": "code",
   "execution_count": 9,
   "metadata": {},
   "outputs": [],
   "source": [
    "# import\n",
    "import io\n",
    "import requests"
   ]
  },
  {
   "cell_type": "code",
   "execution_count": 10,
   "metadata": {
    "scrolled": true
   },
   "outputs": [
    {
     "data": {
      "text/html": [
       "<div>\n",
       "<style scoped>\n",
       "    .dataframe tbody tr th:only-of-type {\n",
       "        vertical-align: middle;\n",
       "    }\n",
       "\n",
       "    .dataframe tbody tr th {\n",
       "        vertical-align: top;\n",
       "    }\n",
       "\n",
       "    .dataframe thead th {\n",
       "        text-align: right;\n",
       "    }\n",
       "</style>\n",
       "<table border=\"1\" class=\"dataframe\">\n",
       "  <thead>\n",
       "    <tr style=\"text-align: right;\">\n",
       "      <th></th>\n",
       "      <th>url</th>\n",
       "      <th>weekid</th>\n",
       "      <th>week_position</th>\n",
       "      <th>song</th>\n",
       "      <th>performer</th>\n",
       "      <th>songid</th>\n",
       "      <th>instance</th>\n",
       "      <th>previous_week_position</th>\n",
       "      <th>peak_position</th>\n",
       "      <th>weeks_on_chart</th>\n",
       "      <th>year</th>\n",
       "      <th>month</th>\n",
       "      <th>day</th>\n",
       "    </tr>\n",
       "  </thead>\n",
       "  <tbody>\n",
       "    <tr>\n",
       "      <th>0</th>\n",
       "      <td>http://www.billboard.com/charts/hot-100/1958-1...</td>\n",
       "      <td>12/13/1958</td>\n",
       "      <td>83</td>\n",
       "      <td>RUN RUDOLPH RUN</td>\n",
       "      <td>Chuck Berry</td>\n",
       "      <td>Run Rudolph RunChuck Berry</td>\n",
       "      <td>1</td>\n",
       "      <td>NaN</td>\n",
       "      <td>69</td>\n",
       "      <td>3</td>\n",
       "      <td>1958</td>\n",
       "      <td>12</td>\n",
       "      <td>13</td>\n",
       "    </tr>\n",
       "    <tr>\n",
       "      <th>1</th>\n",
       "      <td>http://www.billboard.com/charts/hot-100/1958-1...</td>\n",
       "      <td>12/20/1958</td>\n",
       "      <td>57</td>\n",
       "      <td>JINGLE BELL ROCK</td>\n",
       "      <td>Bobby Helms</td>\n",
       "      <td>Jingle Bell RockBobby Helms</td>\n",
       "      <td>1</td>\n",
       "      <td>NaN</td>\n",
       "      <td>29</td>\n",
       "      <td>19</td>\n",
       "      <td>1958</td>\n",
       "      <td>12</td>\n",
       "      <td>20</td>\n",
       "    </tr>\n",
       "    <tr>\n",
       "      <th>2</th>\n",
       "      <td>http://www.billboard.com/charts/hot-100/1958-1...</td>\n",
       "      <td>12/20/1958</td>\n",
       "      <td>73</td>\n",
       "      <td>RUN RUDOLPH RUN</td>\n",
       "      <td>Chuck Berry</td>\n",
       "      <td>Run Rudolph RunChuck Berry</td>\n",
       "      <td>1</td>\n",
       "      <td>83.0</td>\n",
       "      <td>69</td>\n",
       "      <td>3</td>\n",
       "      <td>1958</td>\n",
       "      <td>12</td>\n",
       "      <td>20</td>\n",
       "    </tr>\n",
       "    <tr>\n",
       "      <th>3</th>\n",
       "      <td>http://www.billboard.com/charts/hot-100/1958-1...</td>\n",
       "      <td>12/20/1958</td>\n",
       "      <td>86</td>\n",
       "      <td>WHITE CHRISTMAS</td>\n",
       "      <td>Bing Crosby</td>\n",
       "      <td>White ChristmasBing Crosby</td>\n",
       "      <td>1</td>\n",
       "      <td>NaN</td>\n",
       "      <td>12</td>\n",
       "      <td>13</td>\n",
       "      <td>1958</td>\n",
       "      <td>12</td>\n",
       "      <td>20</td>\n",
       "    </tr>\n",
       "    <tr>\n",
       "      <th>4</th>\n",
       "      <td>http://www.billboard.com/charts/hot-100/1958-1...</td>\n",
       "      <td>12/27/1958</td>\n",
       "      <td>44</td>\n",
       "      <td>GREEN CHRI$TMA$</td>\n",
       "      <td>Stan Freberg</td>\n",
       "      <td>Green Chri$tma$Stan Freberg</td>\n",
       "      <td>1</td>\n",
       "      <td>NaN</td>\n",
       "      <td>44</td>\n",
       "      <td>2</td>\n",
       "      <td>1958</td>\n",
       "      <td>12</td>\n",
       "      <td>27</td>\n",
       "    </tr>\n",
       "  </tbody>\n",
       "</table>\n",
       "</div>"
      ],
      "text/plain": [
       "                                                 url      weekid  \\\n",
       "0  http://www.billboard.com/charts/hot-100/1958-1...  12/13/1958   \n",
       "1  http://www.billboard.com/charts/hot-100/1958-1...  12/20/1958   \n",
       "2  http://www.billboard.com/charts/hot-100/1958-1...  12/20/1958   \n",
       "3  http://www.billboard.com/charts/hot-100/1958-1...  12/20/1958   \n",
       "4  http://www.billboard.com/charts/hot-100/1958-1...  12/27/1958   \n",
       "\n",
       "   week_position              song     performer                       songid  \\\n",
       "0             83   RUN RUDOLPH RUN   Chuck Berry   Run Rudolph RunChuck Berry   \n",
       "1             57  JINGLE BELL ROCK   Bobby Helms  Jingle Bell RockBobby Helms   \n",
       "2             73   RUN RUDOLPH RUN   Chuck Berry   Run Rudolph RunChuck Berry   \n",
       "3             86   WHITE CHRISTMAS   Bing Crosby   White ChristmasBing Crosby   \n",
       "4             44   GREEN CHRI$TMA$  Stan Freberg  Green Chri$tma$Stan Freberg   \n",
       "\n",
       "   instance  previous_week_position  peak_position  weeks_on_chart  year  \\\n",
       "0         1                     NaN             69               3  1958   \n",
       "1         1                     NaN             29              19  1958   \n",
       "2         1                    83.0             69               3  1958   \n",
       "3         1                     NaN             12              13  1958   \n",
       "4         1                     NaN             44               2  1958   \n",
       "\n",
       "   month  day  \n",
       "0     12   13  \n",
       "1     12   20  \n",
       "2     12   20  \n",
       "3     12   20  \n",
       "4     12   27  "
      ]
     },
     "execution_count": 10,
     "metadata": {},
     "output_type": "execute_result"
    }
   ],
   "source": [
    "# don't worry about knowing what each step does\n",
    "# basically:\n",
    "\n",
    "s = requests.get(\n",
    "    data_from_url\n",
    ").content  # this line transforms the url into a string of text\n",
    "\n",
    "s = io.StringIO(\n",
    "    s.decode('utf-8')\n",
    ")  # this makes an utf-8 decoded object that pandas can parse into a df\n",
    "\n",
    "df = pd.read_csv(s)  \n",
    "\n",
    "df.head()"
   ]
  },
  {
   "cell_type": "markdown",
   "metadata": {},
   "source": [
    "[UTF-8](https://en.wikipedia.org/wiki/UTF-8) stands for Unicode Transformation Format - 8-bit, and it's a way to encode characters (like letters, spaces, tabs, etc.) for electronic communication."
   ]
  },
  {
   "cell_type": "markdown",
   "metadata": {},
   "source": [
    "## from clipboard"
   ]
  },
  {
   "cell_type": "markdown",
   "metadata": {},
   "source": [
    "Another very quick an easy way to create a dataframe is using data in the clipboard. I would recommend this method only if you need a quick dataframe to test out code because this method is not very reproducible.\n",
    "\n",
    "For example, if you found some code on StackOverflow. If the author of the issue posted the questions some mock data, you can copy those data to your clipboard, quickly read into a dataframe, and test out the answers to see if they work properly.\n",
    "\n",
    "1. Going back to our raw URL, we can select and copy the first 10 rows of the dataset like so:\n",
    "<img src=\"github_4.png\" alt=\"Third step\" style=\"width: 900px;\"/>\n",
    "\n",
    "2. Then, run the code below. I recommend storing the dataframe in a variable, so you can clear your clipboard, or copy and paste something else without having to redo this step many times."
   ]
  },
  {
   "cell_type": "code",
   "execution_count": 11,
   "metadata": {},
   "outputs": [
    {
     "data": {
      "text/html": [
       "<div>\n",
       "<style scoped>\n",
       "    .dataframe tbody tr th:only-of-type {\n",
       "        vertical-align: middle;\n",
       "    }\n",
       "\n",
       "    .dataframe tbody tr th {\n",
       "        vertical-align: top;\n",
       "    }\n",
       "\n",
       "    .dataframe thead th {\n",
       "        text-align: right;\n",
       "    }\n",
       "</style>\n",
       "<table border=\"1\" class=\"dataframe\">\n",
       "  <thead>\n",
       "    <tr style=\"text-align: right;\">\n",
       "      <th></th>\n",
       "      <th>url</th>\n",
       "      <th>weekid</th>\n",
       "      <th>week_position</th>\n",
       "      <th>song</th>\n",
       "      <th>performer</th>\n",
       "      <th>songid</th>\n",
       "      <th>instance</th>\n",
       "      <th>previous_week_position</th>\n",
       "      <th>peak_position</th>\n",
       "      <th>weeks_on_chart</th>\n",
       "      <th>year</th>\n",
       "      <th>month</th>\n",
       "      <th>day</th>\n",
       "    </tr>\n",
       "  </thead>\n",
       "  <tbody>\n",
       "    <tr>\n",
       "      <th>0</th>\n",
       "      <td>http://www.billboard.com/charts/hot-100/1958-1...</td>\n",
       "      <td>12/13/1958</td>\n",
       "      <td>83</td>\n",
       "      <td>RUN RUDOLPH RUN</td>\n",
       "      <td>Chuck Berry</td>\n",
       "      <td>Run Rudolph RunChuck Berry</td>\n",
       "      <td>1</td>\n",
       "      <td>NaN</td>\n",
       "      <td>69</td>\n",
       "      <td>3</td>\n",
       "      <td>1958</td>\n",
       "      <td>12</td>\n",
       "      <td>13</td>\n",
       "    </tr>\n",
       "    <tr>\n",
       "      <th>1</th>\n",
       "      <td>http://www.billboard.com/charts/hot-100/1958-1...</td>\n",
       "      <td>12/20/1958</td>\n",
       "      <td>57</td>\n",
       "      <td>JINGLE BELL ROCK</td>\n",
       "      <td>Bobby Helms</td>\n",
       "      <td>Jingle Bell RockBobby Helms</td>\n",
       "      <td>1</td>\n",
       "      <td>NaN</td>\n",
       "      <td>29</td>\n",
       "      <td>19</td>\n",
       "      <td>1958</td>\n",
       "      <td>12</td>\n",
       "      <td>20</td>\n",
       "    </tr>\n",
       "    <tr>\n",
       "      <th>2</th>\n",
       "      <td>http://www.billboard.com/charts/hot-100/1958-1...</td>\n",
       "      <td>12/20/1958</td>\n",
       "      <td>73</td>\n",
       "      <td>RUN RUDOLPH RUN</td>\n",
       "      <td>Chuck Berry</td>\n",
       "      <td>Run Rudolph RunChuck Berry</td>\n",
       "      <td>1</td>\n",
       "      <td>83.0</td>\n",
       "      <td>69</td>\n",
       "      <td>3</td>\n",
       "      <td>1958</td>\n",
       "      <td>12</td>\n",
       "      <td>20</td>\n",
       "    </tr>\n",
       "    <tr>\n",
       "      <th>3</th>\n",
       "      <td>http://www.billboard.com/charts/hot-100/1958-1...</td>\n",
       "      <td>12/20/1958</td>\n",
       "      <td>86</td>\n",
       "      <td>WHITE CHRISTMAS</td>\n",
       "      <td>Bing Crosby</td>\n",
       "      <td>White ChristmasBing Crosby</td>\n",
       "      <td>1</td>\n",
       "      <td>NaN</td>\n",
       "      <td>12</td>\n",
       "      <td>13</td>\n",
       "      <td>1958</td>\n",
       "      <td>12</td>\n",
       "      <td>20</td>\n",
       "    </tr>\n",
       "    <tr>\n",
       "      <th>4</th>\n",
       "      <td>http://www.billboard.com/charts/hot-100/1958-1...</td>\n",
       "      <td>12/27/1958</td>\n",
       "      <td>44</td>\n",
       "      <td>GREEN CHRI$TMA$</td>\n",
       "      <td>Stan Freberg</td>\n",
       "      <td>Green Chri$tma$Stan Freberg</td>\n",
       "      <td>1</td>\n",
       "      <td>NaN</td>\n",
       "      <td>44</td>\n",
       "      <td>2</td>\n",
       "      <td>1958</td>\n",
       "      <td>12</td>\n",
       "      <td>27</td>\n",
       "    </tr>\n",
       "  </tbody>\n",
       "</table>\n",
       "</div>"
      ],
      "text/plain": [
       "                                                 url      weekid  \\\n",
       "0  http://www.billboard.com/charts/hot-100/1958-1...  12/13/1958   \n",
       "1  http://www.billboard.com/charts/hot-100/1958-1...  12/20/1958   \n",
       "2  http://www.billboard.com/charts/hot-100/1958-1...  12/20/1958   \n",
       "3  http://www.billboard.com/charts/hot-100/1958-1...  12/20/1958   \n",
       "4  http://www.billboard.com/charts/hot-100/1958-1...  12/27/1958   \n",
       "\n",
       "   week_position              song     performer                       songid  \\\n",
       "0             83   RUN RUDOLPH RUN   Chuck Berry   Run Rudolph RunChuck Berry   \n",
       "1             57  JINGLE BELL ROCK   Bobby Helms  Jingle Bell RockBobby Helms   \n",
       "2             73   RUN RUDOLPH RUN   Chuck Berry   Run Rudolph RunChuck Berry   \n",
       "3             86   WHITE CHRISTMAS   Bing Crosby   White ChristmasBing Crosby   \n",
       "4             44   GREEN CHRI$TMA$  Stan Freberg  Green Chri$tma$Stan Freberg   \n",
       "\n",
       "   instance  previous_week_position  peak_position  weeks_on_chart  year  \\\n",
       "0         1                     NaN             69               3  1958   \n",
       "1         1                     NaN             29              19  1958   \n",
       "2         1                    83.0             69               3  1958   \n",
       "3         1                     NaN             12              13  1958   \n",
       "4         1                     NaN             44               2  1958   \n",
       "\n",
       "   month  day  \n",
       "0     12   13  \n",
       "1     12   20  \n",
       "2     12   20  \n",
       "3     12   20  \n",
       "4     12   27  "
      ]
     },
     "execution_count": 11,
     "metadata": {},
     "output_type": "execute_result"
    }
   ],
   "source": [
    "# also, use the argument sep = ',' to make sure pandas parse it as a csv\n",
    "df = pd.read_clipboard(sep=',')\n",
    "df.head()"
   ]
  },
  {
   "cell_type": "markdown",
   "metadata": {},
   "source": [
    "## using `numpy`\n",
    "\n",
    "Sometimes we might need to create a larger dataframe or we just don't want to waist time typing. So, we can create a dataframe using `np.random.rand()` or `np.random.randint()`.\n",
    "\n",
    "### `np.random.rand()`\n",
    "\n",
    "This function creates an array of a given shape (number of rows and number of columns), and populates it with random values from 0 to 1. We can then pass this array into a pandas dataframe:"
   ]
  },
  {
   "cell_type": "code",
   "execution_count": 12,
   "metadata": {},
   "outputs": [
    {
     "data": {
      "text/html": [
       "<div>\n",
       "<style scoped>\n",
       "    .dataframe tbody tr th:only-of-type {\n",
       "        vertical-align: middle;\n",
       "    }\n",
       "\n",
       "    .dataframe tbody tr th {\n",
       "        vertical-align: top;\n",
       "    }\n",
       "\n",
       "    .dataframe thead th {\n",
       "        text-align: right;\n",
       "    }\n",
       "</style>\n",
       "<table border=\"1\" class=\"dataframe\">\n",
       "  <thead>\n",
       "    <tr style=\"text-align: right;\">\n",
       "      <th></th>\n",
       "      <th>reader_1</th>\n",
       "      <th>reader_2</th>\n",
       "      <th>reader_3</th>\n",
       "    </tr>\n",
       "  </thead>\n",
       "  <tbody>\n",
       "    <tr>\n",
       "      <th>0</th>\n",
       "      <td>0.301925</td>\n",
       "      <td>0.413919</td>\n",
       "      <td>0.762968</td>\n",
       "    </tr>\n",
       "    <tr>\n",
       "      <th>1</th>\n",
       "      <td>0.192374</td>\n",
       "      <td>0.265269</td>\n",
       "      <td>0.015807</td>\n",
       "    </tr>\n",
       "    <tr>\n",
       "      <th>2</th>\n",
       "      <td>0.979220</td>\n",
       "      <td>0.950672</td>\n",
       "      <td>0.450469</td>\n",
       "    </tr>\n",
       "    <tr>\n",
       "      <th>3</th>\n",
       "      <td>0.906519</td>\n",
       "      <td>0.771947</td>\n",
       "      <td>0.769169</td>\n",
       "    </tr>\n",
       "    <tr>\n",
       "      <th>4</th>\n",
       "      <td>0.842017</td>\n",
       "      <td>0.906053</td>\n",
       "      <td>0.615565</td>\n",
       "    </tr>\n",
       "  </tbody>\n",
       "</table>\n",
       "</div>"
      ],
      "text/plain": [
       "   reader_1  reader_2  reader_3\n",
       "0  0.301925  0.413919  0.762968\n",
       "1  0.192374  0.265269  0.015807\n",
       "2  0.979220  0.950672  0.450469\n",
       "3  0.906519  0.771947  0.769169\n",
       "4  0.842017  0.906053  0.615565"
      ]
     },
     "execution_count": 12,
     "metadata": {},
     "output_type": "execute_result"
    }
   ],
   "source": [
    "# we pass the np.random.rand(number of rows, number of columns)\n",
    "# also pass column names\n",
    "pd.DataFrame(np.random.rand(5,3), columns=['reader_1', 'reader_2', 'reader_3'])"
   ]
  },
  {
   "cell_type": "code",
   "execution_count": 13,
   "metadata": {},
   "outputs": [
    {
     "data": {
      "text/html": [
       "<div>\n",
       "<style scoped>\n",
       "    .dataframe tbody tr th:only-of-type {\n",
       "        vertical-align: middle;\n",
       "    }\n",
       "\n",
       "    .dataframe tbody tr th {\n",
       "        vertical-align: top;\n",
       "    }\n",
       "\n",
       "    .dataframe thead th {\n",
       "        text-align: right;\n",
       "    }\n",
       "</style>\n",
       "<table border=\"1\" class=\"dataframe\">\n",
       "  <thead>\n",
       "    <tr style=\"text-align: right;\">\n",
       "      <th></th>\n",
       "      <th>a</th>\n",
       "      <th>b</th>\n",
       "      <th>c</th>\n",
       "    </tr>\n",
       "  </thead>\n",
       "  <tbody>\n",
       "    <tr>\n",
       "      <th>0</th>\n",
       "      <td>0.843810</td>\n",
       "      <td>0.681818</td>\n",
       "      <td>0.475494</td>\n",
       "    </tr>\n",
       "    <tr>\n",
       "      <th>1</th>\n",
       "      <td>0.572422</td>\n",
       "      <td>0.432857</td>\n",
       "      <td>0.699931</td>\n",
       "    </tr>\n",
       "    <tr>\n",
       "      <th>2</th>\n",
       "      <td>0.736380</td>\n",
       "      <td>0.263122</td>\n",
       "      <td>0.273556</td>\n",
       "    </tr>\n",
       "    <tr>\n",
       "      <th>3</th>\n",
       "      <td>0.583622</td>\n",
       "      <td>0.179470</td>\n",
       "      <td>0.291610</td>\n",
       "    </tr>\n",
       "    <tr>\n",
       "      <th>4</th>\n",
       "      <td>0.964920</td>\n",
       "      <td>0.595246</td>\n",
       "      <td>0.352042</td>\n",
       "    </tr>\n",
       "  </tbody>\n",
       "</table>\n",
       "</div>"
      ],
      "text/plain": [
       "          a         b         c\n",
       "0  0.843810  0.681818  0.475494\n",
       "1  0.572422  0.432857  0.699931\n",
       "2  0.736380  0.263122  0.273556\n",
       "3  0.583622  0.179470  0.291610\n",
       "4  0.964920  0.595246  0.352042"
      ]
     },
     "execution_count": 13,
     "metadata": {},
     "output_type": "execute_result"
    }
   ],
   "source": [
    "# another way to set column names, but\n",
    "# the string must have the same number of character as number of columns\n",
    "pd.DataFrame(np.random.rand(5,3), columns=list('abc')) "
   ]
  },
  {
   "cell_type": "markdown",
   "metadata": {},
   "source": [
    "### `np.random.randint()`\n",
    "\n",
    "This function creates an array of a given shape (number of rows, number of columns) with random values from the given distribution. This is useful if we want to work with higher numbers, like percentages. We can then transform the array into a dataframe like so:"
   ]
  },
  {
   "cell_type": "code",
   "execution_count": 14,
   "metadata": {},
   "outputs": [
    {
     "data": {
      "text/html": [
       "<div>\n",
       "<style scoped>\n",
       "    .dataframe tbody tr th:only-of-type {\n",
       "        vertical-align: middle;\n",
       "    }\n",
       "\n",
       "    .dataframe tbody tr th {\n",
       "        vertical-align: top;\n",
       "    }\n",
       "\n",
       "    .dataframe thead th {\n",
       "        text-align: right;\n",
       "    }\n",
       "</style>\n",
       "<table border=\"1\" class=\"dataframe\">\n",
       "  <thead>\n",
       "    <tr style=\"text-align: right;\">\n",
       "      <th></th>\n",
       "      <th>a</th>\n",
       "      <th>b</th>\n",
       "      <th>c</th>\n",
       "    </tr>\n",
       "  </thead>\n",
       "  <tbody>\n",
       "    <tr>\n",
       "      <th>0</th>\n",
       "      <td>39</td>\n",
       "      <td>91</td>\n",
       "      <td>66</td>\n",
       "    </tr>\n",
       "    <tr>\n",
       "      <th>1</th>\n",
       "      <td>55</td>\n",
       "      <td>67</td>\n",
       "      <td>77</td>\n",
       "    </tr>\n",
       "    <tr>\n",
       "      <th>2</th>\n",
       "      <td>91</td>\n",
       "      <td>49</td>\n",
       "      <td>56</td>\n",
       "    </tr>\n",
       "    <tr>\n",
       "      <th>3</th>\n",
       "      <td>10</td>\n",
       "      <td>33</td>\n",
       "      <td>44</td>\n",
       "    </tr>\n",
       "    <tr>\n",
       "      <th>4</th>\n",
       "      <td>75</td>\n",
       "      <td>66</td>\n",
       "      <td>44</td>\n",
       "    </tr>\n",
       "  </tbody>\n",
       "</table>\n",
       "</div>"
      ],
      "text/plain": [
       "    a   b   c\n",
       "0  39  91  66\n",
       "1  55  67  77\n",
       "2  91  49  56\n",
       "3  10  33  44\n",
       "4  75  66  44"
      ]
     },
     "execution_count": 14,
     "metadata": {},
     "output_type": "execute_result"
    }
   ],
   "source": [
    "# we set a distribution as low = 0 and high = 101\n",
    "# and we set the shape as size = (number of rows, number of columns)\n",
    "pd.DataFrame(np.random.randint(low = 0, high = 101, size=(5, 3)), columns=list('abc'))"
   ]
  },
  {
   "cell_type": "markdown",
   "metadata": {},
   "source": [
    "I wanted a distribution from 0 to 100%, for this example. So we had to use 101 as the higher value of the distribution, because the *high* value is not inclusive. This information is in the documentation of this [function](https://numpy.org/doc/stable/reference/random/generated/numpy.random.randint.html).\n",
    "\n",
    "It's really important to check online when you are not exactly sure how to use a function, or if you want to know other arguments and parameters a function can take."
   ]
  },
  {
   "cell_type": "markdown",
   "metadata": {},
   "source": [
    "# Import tabular data\n",
    "\n",
    "If you downloaded data from the web, or if you have your own dataset, you can import the data using `pd.read_csv()`, which we used [before](#from_url).\n",
    "\n",
    "If you have your own dataset, make sure the file is in your path or you know the path of your file, and jump over to this [cell]().\n",
    "\n",
    "Let's download the Christmas song dataset we used [here](#from_url). We should have the link in our environment, if not this was the url link:"
   ]
  },
  {
   "cell_type": "code",
   "execution_count": 15,
   "metadata": {
    "scrolled": true
   },
   "outputs": [
    {
     "data": {
      "text/plain": [
       "'https://raw.githubusercontent.com/rfordatascience/tidytuesday/master/data/2019/2019-12-24/christmas_songs.csv'"
      ]
     },
     "execution_count": 15,
     "metadata": {},
     "output_type": "execute_result"
    }
   ],
   "source": [
    "data_from_url"
   ]
  },
  {
   "cell_type": "markdown",
   "metadata": {},
   "source": [
    "Then, you could manually download the file from GitHub, and move it into the directory you have your notebook. \n",
    "\n",
    "Another option is to install [`wget`](https://pypi.org/project/wget/), and use the `wget.download()` function. \n",
    "\n",
    "A third option, which I'll use here, is to use Jupyter magic. We'll leverage Jypter magic tricks to run the `wget` bash command to download the datafile. DISCLAIMER: I am not sure if this works for Windows OS."
   ]
  },
  {
   "cell_type": "code",
   "execution_count": 16,
   "metadata": {},
   "outputs": [
    {
     "name": "stderr",
     "output_type": "stream",
     "text": [
      "--2021-01-01 16:00:34--  https://raw.githubusercontent.com/rfordatascience/tidytuesday/master/data/2019/2019-12-24/christmas_songs.csv\n",
      "Resolving raw.githubusercontent.com (raw.githubusercontent.com)... 151.101.0.133, 151.101.64.133, 151.101.128.133, ...\n",
      "Connecting to raw.githubusercontent.com (raw.githubusercontent.com)|151.101.0.133|:443... connected.\n",
      "HTTP request sent, awaiting response... 200 OK\n",
      "Length: 63106 (62K) [text/plain]\n",
      "Saving to: ‘christmas_songs.csv.1’\n",
      "\n",
      "     0K .......... .......... .......... .......... .......... 81% 1.52M 0s\n",
      "    50K .......... .                                          100% 2.57M=0.04s\n",
      "\n",
      "2021-01-01 16:00:35 (1.65 MB/s) - ‘christmas_songs.csv.1’ saved [63106/63106]\n",
      "\n"
     ]
    }
   ],
   "source": [
    "%%bash\n",
    "wget https://raw.githubusercontent.com/rfordatascience/tidytuesday/master/data/2019/2019-12-24/christmas_songs.csv"
   ]
  },
  {
   "cell_type": "markdown",
   "metadata": {},
   "source": [
    "The datafile is now downloaded in my current directory. Let's finally import the data!"
   ]
  },
  {
   "cell_type": "code",
   "execution_count": 17,
   "metadata": {},
   "outputs": [
    {
     "data": {
      "text/html": [
       "<div>\n",
       "<style scoped>\n",
       "    .dataframe tbody tr th:only-of-type {\n",
       "        vertical-align: middle;\n",
       "    }\n",
       "\n",
       "    .dataframe tbody tr th {\n",
       "        vertical-align: top;\n",
       "    }\n",
       "\n",
       "    .dataframe thead th {\n",
       "        text-align: right;\n",
       "    }\n",
       "</style>\n",
       "<table border=\"1\" class=\"dataframe\">\n",
       "  <thead>\n",
       "    <tr style=\"text-align: right;\">\n",
       "      <th></th>\n",
       "      <th>url</th>\n",
       "      <th>weekid</th>\n",
       "      <th>week_position</th>\n",
       "      <th>song</th>\n",
       "      <th>performer</th>\n",
       "      <th>songid</th>\n",
       "      <th>instance</th>\n",
       "      <th>previous_week_position</th>\n",
       "      <th>peak_position</th>\n",
       "      <th>weeks_on_chart</th>\n",
       "      <th>year</th>\n",
       "      <th>month</th>\n",
       "      <th>day</th>\n",
       "    </tr>\n",
       "  </thead>\n",
       "  <tbody>\n",
       "    <tr>\n",
       "      <th>0</th>\n",
       "      <td>http://www.billboard.com/charts/hot-100/1958-1...</td>\n",
       "      <td>12/13/1958</td>\n",
       "      <td>83</td>\n",
       "      <td>RUN RUDOLPH RUN</td>\n",
       "      <td>Chuck Berry</td>\n",
       "      <td>Run Rudolph RunChuck Berry</td>\n",
       "      <td>1</td>\n",
       "      <td>NaN</td>\n",
       "      <td>69</td>\n",
       "      <td>3</td>\n",
       "      <td>1958</td>\n",
       "      <td>12</td>\n",
       "      <td>13</td>\n",
       "    </tr>\n",
       "    <tr>\n",
       "      <th>1</th>\n",
       "      <td>http://www.billboard.com/charts/hot-100/1958-1...</td>\n",
       "      <td>12/20/1958</td>\n",
       "      <td>57</td>\n",
       "      <td>JINGLE BELL ROCK</td>\n",
       "      <td>Bobby Helms</td>\n",
       "      <td>Jingle Bell RockBobby Helms</td>\n",
       "      <td>1</td>\n",
       "      <td>NaN</td>\n",
       "      <td>29</td>\n",
       "      <td>19</td>\n",
       "      <td>1958</td>\n",
       "      <td>12</td>\n",
       "      <td>20</td>\n",
       "    </tr>\n",
       "    <tr>\n",
       "      <th>2</th>\n",
       "      <td>http://www.billboard.com/charts/hot-100/1958-1...</td>\n",
       "      <td>12/20/1958</td>\n",
       "      <td>73</td>\n",
       "      <td>RUN RUDOLPH RUN</td>\n",
       "      <td>Chuck Berry</td>\n",
       "      <td>Run Rudolph RunChuck Berry</td>\n",
       "      <td>1</td>\n",
       "      <td>83.0</td>\n",
       "      <td>69</td>\n",
       "      <td>3</td>\n",
       "      <td>1958</td>\n",
       "      <td>12</td>\n",
       "      <td>20</td>\n",
       "    </tr>\n",
       "    <tr>\n",
       "      <th>3</th>\n",
       "      <td>http://www.billboard.com/charts/hot-100/1958-1...</td>\n",
       "      <td>12/20/1958</td>\n",
       "      <td>86</td>\n",
       "      <td>WHITE CHRISTMAS</td>\n",
       "      <td>Bing Crosby</td>\n",
       "      <td>White ChristmasBing Crosby</td>\n",
       "      <td>1</td>\n",
       "      <td>NaN</td>\n",
       "      <td>12</td>\n",
       "      <td>13</td>\n",
       "      <td>1958</td>\n",
       "      <td>12</td>\n",
       "      <td>20</td>\n",
       "    </tr>\n",
       "    <tr>\n",
       "      <th>4</th>\n",
       "      <td>http://www.billboard.com/charts/hot-100/1958-1...</td>\n",
       "      <td>12/27/1958</td>\n",
       "      <td>44</td>\n",
       "      <td>GREEN CHRI$TMA$</td>\n",
       "      <td>Stan Freberg</td>\n",
       "      <td>Green Chri$tma$Stan Freberg</td>\n",
       "      <td>1</td>\n",
       "      <td>NaN</td>\n",
       "      <td>44</td>\n",
       "      <td>2</td>\n",
       "      <td>1958</td>\n",
       "      <td>12</td>\n",
       "      <td>27</td>\n",
       "    </tr>\n",
       "  </tbody>\n",
       "</table>\n",
       "</div>"
      ],
      "text/plain": [
       "                                                 url      weekid  \\\n",
       "0  http://www.billboard.com/charts/hot-100/1958-1...  12/13/1958   \n",
       "1  http://www.billboard.com/charts/hot-100/1958-1...  12/20/1958   \n",
       "2  http://www.billboard.com/charts/hot-100/1958-1...  12/20/1958   \n",
       "3  http://www.billboard.com/charts/hot-100/1958-1...  12/20/1958   \n",
       "4  http://www.billboard.com/charts/hot-100/1958-1...  12/27/1958   \n",
       "\n",
       "   week_position              song     performer                       songid  \\\n",
       "0             83   RUN RUDOLPH RUN   Chuck Berry   Run Rudolph RunChuck Berry   \n",
       "1             57  JINGLE BELL ROCK   Bobby Helms  Jingle Bell RockBobby Helms   \n",
       "2             73   RUN RUDOLPH RUN   Chuck Berry   Run Rudolph RunChuck Berry   \n",
       "3             86   WHITE CHRISTMAS   Bing Crosby   White ChristmasBing Crosby   \n",
       "4             44   GREEN CHRI$TMA$  Stan Freberg  Green Chri$tma$Stan Freberg   \n",
       "\n",
       "   instance  previous_week_position  peak_position  weeks_on_chart  year  \\\n",
       "0         1                     NaN             69               3  1958   \n",
       "1         1                     NaN             29              19  1958   \n",
       "2         1                    83.0             69               3  1958   \n",
       "3         1                     NaN             12              13  1958   \n",
       "4         1                     NaN             44               2  1958   \n",
       "\n",
       "   month  day  \n",
       "0     12   13  \n",
       "1     12   20  \n",
       "2     12   20  \n",
       "3     12   20  \n",
       "4     12   27  "
      ]
     },
     "execution_count": 17,
     "metadata": {},
     "output_type": "execute_result"
    }
   ],
   "source": [
    "pd.read_csv('christmas_songs.csv').head()"
   ]
  },
  {
   "cell_type": "markdown",
   "metadata": {},
   "source": [
    "# More resources\n",
    "\n",
    "There are many other ways to create dataframes, and import data into a `pandas` dataframe. If you use Excel a lot 🤢, you might find `read_excel()` very useful 🤮. \n",
    "\n",
    "`pandas` support many other file formats such as json, hdf5. Check out more ways to import data [here](https://pandas.pydata.org/docs/user_guide/io.html).\n",
    "\n",
    "You can also check the documentation of a function here, from the notebook:"
   ]
  },
  {
   "cell_type": "code",
   "execution_count": 18,
   "metadata": {},
   "outputs": [],
   "source": [
    "?pd.read_csv"
   ]
  }
 ],
 "metadata": {
  "kernelspec": {
   "display_name": "Python 3",
   "language": "python",
   "name": "python3"
  },
  "language_info": {
   "codemirror_mode": {
    "name": "ipython",
    "version": 3
   },
   "file_extension": ".py",
   "mimetype": "text/x-python",
   "name": "python",
   "nbconvert_exporter": "python",
   "pygments_lexer": "ipython3",
   "version": "3.9.0"
  },
  "toc": {
   "base_numbering": 1,
   "nav_menu": {},
   "number_sections": true,
   "sideBar": true,
   "skip_h1_title": false,
   "title_cell": "Table of Contents",
   "title_sidebar": "Contents",
   "toc_cell": false,
   "toc_position": {
    "height": "671.111px",
    "left": "696px",
    "top": "560.163px",
    "width": "211.997px"
   },
   "toc_section_display": true,
   "toc_window_display": true
  },
  "varInspector": {
   "cols": {
    "lenName": 16,
    "lenType": 16,
    "lenVar": 40
   },
   "kernels_config": {
    "python": {
     "delete_cmd_postfix": "",
     "delete_cmd_prefix": "del ",
     "library": "var_list.py",
     "varRefreshCmd": "print(var_dic_list())"
    },
    "r": {
     "delete_cmd_postfix": ") ",
     "delete_cmd_prefix": "rm(",
     "library": "var_list.r",
     "varRefreshCmd": "cat(var_dic_list()) "
    }
   },
   "types_to_exclude": [
    "module",
    "function",
    "builtin_function_or_method",
    "instance",
    "_Feature"
   ],
   "window_display": false
  }
 },
 "nbformat": 4,
 "nbformat_minor": 4
}
